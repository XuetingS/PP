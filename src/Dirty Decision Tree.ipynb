{
 "cells": [
  {
   "cell_type": "code",
   "execution_count": 1,
   "metadata": {
    "ExecuteTime": {
     "end_time": "2019-12-27T13:32:17.047520Z",
     "start_time": "2019-12-27T13:31:35.489562Z"
    }
   },
   "outputs": [],
   "source": [
    "import pandas as pd\n",
    "import os\n",
    "import base64\n",
    "import time\n",
    "import pickle as p\n",
    "import numpy as np\n",
    "import matplotlib.pyplot as plt\n",
    "import pandas.core.algorithms as algos\n",
    "from sklearn.model_selection import train_test_split\n",
    "from sklearn import metrics\n",
    "from functools import reduce\n",
    "import datetime\n",
    "from dateutil.relativedelta import relativedelta\n",
    "import logging\n",
    "import matplotlib.style as style\n",
    "import matplotlib\n",
    "import matplotlib.lines as mlines\n",
    "from matplotlib.ticker import FuncFormatter\n",
    "style.use('seaborn')\n",
    "\n",
    "import warnings\n",
    "warnings.filterwarnings('ignore')"
   ]
  },
  {
   "cell_type": "code",
   "execution_count": 2,
   "metadata": {
    "ExecuteTime": {
     "end_time": "2019-12-27T13:32:17.053214Z",
     "start_time": "2019-12-27T13:32:17.050206Z"
    }
   },
   "outputs": [],
   "source": [
    "pd.set_option('display.max_rows', 500)\n",
    "pd.set_option('display.max_columns', 500)\n",
    "pd.set_option('display.width', 1000)"
   ]
  },
  {
   "cell_type": "code",
   "execution_count": 3,
   "metadata": {
    "ExecuteTime": {
     "end_time": "2019-12-27T13:32:17.097107Z",
     "start_time": "2019-12-27T13:32:17.055195Z"
    }
   },
   "outputs": [
    {
     "data": {
      "text/plain": [
       "51"
      ]
     },
     "execution_count": 3,
     "metadata": {},
     "output_type": "execute_result"
    }
   ],
   "source": [
    "import gc\n",
    "gc.collect()"
   ]
  },
  {
   "cell_type": "code",
   "execution_count": 5,
   "metadata": {
    "ExecuteTime": {
     "end_time": "2019-12-27T13:32:19.719794Z",
     "start_time": "2019-12-27T13:32:19.717793Z"
    }
   },
   "outputs": [],
   "source": [
    "data_path = '../data/' # Where your customer and performance data located\n",
    "output_path = 'TO BE FILLED IN' # Where do you want to output the final dataset\n",
    "filename = 'TO BE FILLED IN' # What do you want to name the output dataset "
   ]
  },
  {
   "cell_type": "code",
   "execution_count": 63,
   "metadata": {
    "ExecuteTime": {
     "end_time": "2019-12-27T16:02:35.655632Z",
     "start_time": "2019-12-27T16:02:35.578913Z"
    }
   },
   "outputs": [],
   "source": [
    "Client = pd.read_excel('../data/Client_info_20191118.xlsx',sheet_name='Sheet1')"
   ]
  },
  {
   "cell_type": "markdown",
   "metadata": {},
   "source": [
    "## Data Loading & Preprocessing"
   ]
  },
  {
   "cell_type": "markdown",
   "metadata": {},
   "source": [
    "### 1. Customer Dataset"
   ]
  },
  {
   "cell_type": "code",
   "execution_count": 6,
   "metadata": {
    "ExecuteTime": {
     "end_time": "2019-12-27T13:32:24.401929Z",
     "start_time": "2019-12-27T13:32:23.075704Z"
    }
   },
   "outputs": [],
   "source": [
    "Customer_old = pd.read_csv(data_path + 'Customer_Data_Request_20191121.csv')\n",
    "Customer = pd.read_csv(data_path + 'Customer_Data_Request_20191217.csv')"
   ]
  },
  {
   "cell_type": "code",
   "execution_count": 7,
   "metadata": {
    "ExecuteTime": {
     "end_time": "2019-12-27T13:32:25.304193Z",
     "start_time": "2019-12-27T13:32:24.403440Z"
    }
   },
   "outputs": [],
   "source": [
    "# Append these 2 dataframes together\n",
    "Customer = Customer_old.append(Customer,ignore_index = True)\n",
    "# 2 Customer has duplicating records, we pick ClientID 2049 as their real Client but this is just a random choice\n",
    "# Customer[Customer['Unique_Customer_ID']==100541023,100696306]\n",
    "# Drop the duplicates customerID by index\n",
    "Customer = Customer.drop(Customer.index[[72898,51730]])"
   ]
  },
  {
   "cell_type": "code",
   "execution_count": 8,
   "metadata": {
    "ExecuteTime": {
     "end_time": "2019-12-27T13:32:26.396905Z",
     "start_time": "2019-12-27T13:32:26.382761Z"
    }
   },
   "outputs": [
    {
     "data": {
      "text/html": [
       "<div>\n",
       "<style scoped>\n",
       "    .dataframe tbody tr th:only-of-type {\n",
       "        vertical-align: middle;\n",
       "    }\n",
       "\n",
       "    .dataframe tbody tr th {\n",
       "        vertical-align: top;\n",
       "    }\n",
       "\n",
       "    .dataframe thead th {\n",
       "        text-align: right;\n",
       "    }\n",
       "</style>\n",
       "<table border=\"1\" class=\"dataframe\">\n",
       "  <thead>\n",
       "    <tr style=\"text-align: right;\">\n",
       "      <th></th>\n",
       "      <th>Unique_Customer_ID</th>\n",
       "      <th>Unique_Company_ID</th>\n",
       "      <th>Enrollment_Date</th>\n",
       "      <th>Assigned_Spending_Limit</th>\n",
       "      <th>Customer_Tenure</th>\n",
       "      <th>Customer_Salary</th>\n",
       "      <th>Prior_Customer_Flag</th>\n",
       "      <th>Street1</th>\n",
       "      <th>Street2</th>\n",
       "      <th>City</th>\n",
       "      <th>State</th>\n",
       "      <th>Zip</th>\n",
       "      <th>Status</th>\n",
       "      <th>Term_Date</th>\n",
       "    </tr>\n",
       "  </thead>\n",
       "  <tbody>\n",
       "    <tr>\n",
       "      <th>0</th>\n",
       "      <td>100001115</td>\n",
       "      <td>1000</td>\n",
       "      <td>02/24/2014</td>\n",
       "      <td>6880.0</td>\n",
       "      <td>230.0</td>\n",
       "      <td>58229</td>\n",
       "      <td>Repeat Buyer</td>\n",
       "      <td>1471 N EAST ST</td>\n",
       "      <td>NaN</td>\n",
       "      <td>YORK</td>\n",
       "      <td>PA</td>\n",
       "      <td>17406</td>\n",
       "      <td>Employed</td>\n",
       "      <td>NaN</td>\n",
       "    </tr>\n",
       "    <tr>\n",
       "      <th>1</th>\n",
       "      <td>100001120</td>\n",
       "      <td>1000</td>\n",
       "      <td>02/24/2014</td>\n",
       "      <td>6520.0</td>\n",
       "      <td>362.0</td>\n",
       "      <td>109245</td>\n",
       "      <td>Repeat Buyer</td>\n",
       "      <td>94 Brentwood Ln</td>\n",
       "      <td>NaN</td>\n",
       "      <td>Valley Stream</td>\n",
       "      <td>NY</td>\n",
       "      <td>11581</td>\n",
       "      <td>Employed</td>\n",
       "      <td>NaN</td>\n",
       "    </tr>\n",
       "    <tr>\n",
       "      <th>2</th>\n",
       "      <td>100001141</td>\n",
       "      <td>1000</td>\n",
       "      <td>02/25/2014</td>\n",
       "      <td>10290.0</td>\n",
       "      <td>337.0</td>\n",
       "      <td>127226</td>\n",
       "      <td>Repeat Buyer</td>\n",
       "      <td>103 KENILWORTH PARK DR</td>\n",
       "      <td>APT 2B</td>\n",
       "      <td>TOWSON</td>\n",
       "      <td>MD</td>\n",
       "      <td>21204</td>\n",
       "      <td>Employed</td>\n",
       "      <td>NaN</td>\n",
       "    </tr>\n",
       "    <tr>\n",
       "      <th>3</th>\n",
       "      <td>100001158</td>\n",
       "      <td>1000</td>\n",
       "      <td>02/24/2014</td>\n",
       "      <td>5190.0</td>\n",
       "      <td>419.0</td>\n",
       "      <td>49375</td>\n",
       "      <td>Repeat Buyer</td>\n",
       "      <td>1036 Braddish Ave</td>\n",
       "      <td>NaN</td>\n",
       "      <td>Baltimore</td>\n",
       "      <td>MD</td>\n",
       "      <td>21216</td>\n",
       "      <td>Employed</td>\n",
       "      <td>NaN</td>\n",
       "    </tr>\n",
       "    <tr>\n",
       "      <th>4</th>\n",
       "      <td>100001169</td>\n",
       "      <td>1000</td>\n",
       "      <td>02/24/2014</td>\n",
       "      <td>7500.0</td>\n",
       "      <td>448.0</td>\n",
       "      <td>69460</td>\n",
       "      <td>Repeat Buyer</td>\n",
       "      <td>3915 W ROGERS AVE</td>\n",
       "      <td>NaN</td>\n",
       "      <td>BALTIMORE</td>\n",
       "      <td>MD</td>\n",
       "      <td>21215</td>\n",
       "      <td>Employed</td>\n",
       "      <td>NaN</td>\n",
       "    </tr>\n",
       "  </tbody>\n",
       "</table>\n",
       "</div>"
      ],
      "text/plain": [
       "   Unique_Customer_ID  Unique_Company_ID Enrollment_Date  Assigned_Spending_Limit  Customer_Tenure Customer_Salary Prior_Customer_Flag                 Street1 Street2           City State    Zip    Status Term_Date\n",
       "0           100001115               1000      02/24/2014                   6880.0            230.0           58229        Repeat Buyer          1471 N EAST ST     NaN           YORK    PA  17406  Employed       NaN\n",
       "1           100001120               1000      02/24/2014                   6520.0            362.0          109245        Repeat Buyer         94 Brentwood Ln     NaN  Valley Stream    NY  11581  Employed       NaN\n",
       "2           100001141               1000      02/25/2014                  10290.0            337.0          127226        Repeat Buyer  103 KENILWORTH PARK DR  APT 2B         TOWSON    MD  21204  Employed       NaN\n",
       "3           100001158               1000      02/24/2014                   5190.0            419.0           49375        Repeat Buyer       1036 Braddish Ave     NaN      Baltimore    MD  21216  Employed       NaN\n",
       "4           100001169               1000      02/24/2014                   7500.0            448.0           69460        Repeat Buyer       3915 W ROGERS AVE     NaN      BALTIMORE    MD  21215  Employed       NaN"
      ]
     },
     "execution_count": 8,
     "metadata": {},
     "output_type": "execute_result"
    }
   ],
   "source": [
    "Customer.head()"
   ]
  },
  {
   "cell_type": "code",
   "execution_count": 9,
   "metadata": {
    "ExecuteTime": {
     "end_time": "2019-12-27T13:32:26.893066Z",
     "start_time": "2019-12-27T13:32:26.579386Z"
    },
    "scrolled": true
   },
   "outputs": [
    {
     "data": {
      "text/plain": [
       "Unique_Customer_ID              0\n",
       "Unique_Company_ID               0\n",
       "Enrollment_Date                 0\n",
       "Assigned_Spending_Limit         0\n",
       "Customer_Tenure               110\n",
       "Customer_Salary             67538\n",
       "Prior_Customer_Flag             0\n",
       "Street1                        71\n",
       "Street2                    483722\n",
       "City                           68\n",
       "State                           1\n",
       "Zip                             6\n",
       "Status                        308\n",
       "Term_Date                  491485\n",
       "dtype: int64"
      ]
     },
     "execution_count": 9,
     "metadata": {},
     "output_type": "execute_result"
    }
   ],
   "source": [
    "# Check Missing Values\n",
    "Customer.isnull().sum(axis=0)"
   ]
  },
  {
   "cell_type": "code",
   "execution_count": 10,
   "metadata": {
    "ExecuteTime": {
     "end_time": "2019-12-27T13:32:27.819240Z",
     "start_time": "2019-12-27T13:32:27.710803Z"
    }
   },
   "outputs": [],
   "source": [
    "# Some data cleaning here, eliminate the customers with following cases\n",
    "# Customer_Salary has NaN, 0 and '.'\n",
    "# Assigned_Spending_Limit has 0\n",
    "# Customer_Tenure has NaN\n",
    "Customer = Customer[(Customer['Assigned_Spending_Limit'] != 0) & \n",
    "                    (~Customer['Customer_Salary'].isin([0, '.'])) & \n",
    "                    (Customer['Customer_Salary'].notnull())&\n",
    "                    (Customer['Customer_Tenure'].notnull())]\n",
    "\n"
   ]
  },
  {
   "cell_type": "code",
   "execution_count": 11,
   "metadata": {
    "ExecuteTime": {
     "end_time": "2019-12-27T13:32:30.035601Z",
     "start_time": "2019-12-27T13:32:28.515748Z"
    }
   },
   "outputs": [],
   "source": [
    " # Formating conversion\n",
    "Customer['Customer_Salary'] = Customer['Customer_Salary'].astype(float)\n",
    "Customer['Enrollment_Date'] = pd.to_datetime(Customer['Enrollment_Date'].astype(str), format='%m/%d/%Y')"
   ]
  },
  {
   "cell_type": "code",
   "execution_count": 12,
   "metadata": {
    "ExecuteTime": {
     "end_time": "2019-12-27T13:32:30.043277Z",
     "start_time": "2019-12-27T13:32:30.038799Z"
    }
   },
   "outputs": [
    {
     "data": {
      "text/plain": [
       "Unique_Customer_ID                  int64\n",
       "Unique_Company_ID                   int64\n",
       "Enrollment_Date            datetime64[ns]\n",
       "Assigned_Spending_Limit           float64\n",
       "Customer_Tenure                   float64\n",
       "Customer_Salary                   float64\n",
       "Prior_Customer_Flag                object\n",
       "Street1                            object\n",
       "Street2                            object\n",
       "City                               object\n",
       "State                              object\n",
       "Zip                                object\n",
       "Status                             object\n",
       "Term_Date                          object\n",
       "dtype: object"
      ]
     },
     "execution_count": 12,
     "metadata": {},
     "output_type": "execute_result"
    }
   ],
   "source": [
    "Customer.dtypes"
   ]
  },
  {
   "cell_type": "markdown",
   "metadata": {},
   "source": [
    "### 2. Performance Dataset"
   ]
  },
  {
   "cell_type": "code",
   "execution_count": 13,
   "metadata": {
    "ExecuteTime": {
     "end_time": "2019-12-27T13:34:46.887254Z",
     "start_time": "2019-12-27T13:32:31.145497Z"
    }
   },
   "outputs": [],
   "source": [
    "Perf = pd.read_csv(data_path + 'Performance_Data_Request_20191204.csv')\n",
    "Perf_11 = pd.read_csv(data_path + 'Performance_Data_Request_20191217.csv')"
   ]
  },
  {
   "cell_type": "code",
   "execution_count": 14,
   "metadata": {
    "ExecuteTime": {
     "end_time": "2019-12-27T13:35:28.578525Z",
     "start_time": "2019-12-27T13:34:46.888914Z"
    }
   },
   "outputs": [],
   "source": [
    "# Deal with the column name mismatching issue before appending the 2 dataframes together\n",
    "Perf_11.rename(columns = {' Unique_Order_ID':'Unique_Order_ID','Order_date':'Order_Date'},inplace = True)\n",
    "Perf.rename(columns = {'items_ordered':'Items_Ordered','EMPSTATUS':'Customer_Status'},inplace = True)\n",
    "Perf = Perf.append(Perf_11, ignore_index=True)"
   ]
  },
  {
   "cell_type": "code",
   "execution_count": 15,
   "metadata": {
    "ExecuteTime": {
     "end_time": "2019-12-27T13:49:30.444277Z",
     "start_time": "2019-12-27T13:35:28.581032Z"
    }
   },
   "outputs": [],
   "source": [
    "# Make sure the data order is aligned with OrderID & Y-M\n",
    "Perf['Year_and_Month'] = pd.to_datetime(Perf['Year_and_Month'].astype(str), format = '%Y%m')\n",
    "Perf = Perf.sort_values(['Unique_Order_ID','Year_and_Month'],ascending = [False,True])\n",
    "\n",
    "# Create new column - YQ and Year\n",
    "Perf['YQ'] = pd.PeriodIndex(Perf['Year_and_Month'], freq='Q')\n",
    "Perf['Year'] = Perf['YQ'].dt.year\n",
    "\n",
    "# Assign Payment Order as a new column\n",
    "Perf['Payment_Order'] = Perf.groupby('Unique_Order_ID')['Year_and_Month'].rank(method='first')\n",
    "\n",
    "# Treat 151+ ad CO as BAD\n",
    "Perf['Bad']=0\n",
    "Perf.loc[Perf['Default_Status'].isin(['151+','Chargeoff']),'Bad']=1\n",
    "# Create a flag Ever_Bad to distinguish first time bad and non-first time bad \n",
    "Perf['Ever_Bad'] = Perf.groupby('Unique_Order_ID')['Bad'].transform(pd.Series.cumsum)\n",
    "\n",
    "# Create 2os Loss, using Losses for C/O orders and Current_Balance for 151+ orders\n",
    "Perf['2os_loss'] = 0\n",
    "Perf.loc[Perf['Default_Status']=='Chargeoff','2os_loss'] = Perf.loc[Perf['Default_Status']=='Chargeoff','Losses']\n",
    "Perf.loc[Perf['Default_Status']=='151+','2os_loss'] = Perf.loc[Perf['Default_Status']=='151+','Current_Balance']\n",
    "\n",
    "\n",
    "# Perf['Enrollment_Date'] = pd.to_datetime(Perf['Enrollment_Date'].astype(str), format = '%m/%d/%Y')"
   ]
  },
  {
   "cell_type": "code",
   "execution_count": 16,
   "metadata": {
    "ExecuteTime": {
     "end_time": "2019-12-27T13:50:02.811462Z",
     "start_time": "2019-12-27T13:49:30.445995Z"
    }
   },
   "outputs": [],
   "source": [
    "# Some cleaning here\n",
    "Perf.loc[Perf['Order_Amount']=='.','Order_Amount']=np.nan\n",
    "Perf['Order_Amount'] = Perf['Order_Amount'].astype(float)\n",
    "\n",
    "Perf = Perf[(Perf['Order_Amount'].notnull()) & (Perf['Order_Amount']!=0)]"
   ]
  },
  {
   "cell_type": "code",
   "execution_count": 17,
   "metadata": {
    "ExecuteTime": {
     "end_time": "2019-12-27T13:51:20.725483Z",
     "start_time": "2019-12-27T13:50:02.813601Z"
    }
   },
   "outputs": [],
   "source": [
    "Perf = Perf.merge(Customer, how='left',on='Unique_Customer_ID')"
   ]
  },
  {
   "cell_type": "code",
   "execution_count": 18,
   "metadata": {
    "ExecuteTime": {
     "end_time": "2019-12-27T14:55:02.663279Z",
     "start_time": "2019-12-27T14:54:14.671196Z"
    }
   },
   "outputs": [],
   "source": [
    "df_17 = Perf[Perf['Year']>=2017]"
   ]
  },
  {
   "cell_type": "code",
   "execution_count": 19,
   "metadata": {
    "ExecuteTime": {
     "end_time": "2019-12-27T14:55:03.727613Z",
     "start_time": "2019-12-27T14:55:02.664836Z"
    }
   },
   "outputs": [],
   "source": [
    "fed = df_17[df_17['Unique_Company_ID']==2049]"
   ]
  },
  {
   "cell_type": "code",
   "execution_count": 20,
   "metadata": {
    "ExecuteTime": {
     "end_time": "2019-12-27T14:56:23.051412Z",
     "start_time": "2019-12-27T14:55:03.729134Z"
    }
   },
   "outputs": [],
   "source": [
    "fed_bad = fed[(fed['Bad']==1) & (fed['Ever_Bad']<=1)]\n",
    "fed_good = fed.groupby('Unique_Order_ID').filter(lambda x: x['Ever_Bad'].max()==0)"
   ]
  },
  {
   "cell_type": "code",
   "execution_count": 22,
   "metadata": {
    "ExecuteTime": {
     "end_time": "2019-12-27T14:58:02.223460Z",
     "start_time": "2019-12-27T14:58:02.205775Z"
    }
   },
   "outputs": [
    {
     "data": {
      "text/html": [
       "<div>\n",
       "<style scoped>\n",
       "    .dataframe tbody tr th:only-of-type {\n",
       "        vertical-align: middle;\n",
       "    }\n",
       "\n",
       "    .dataframe tbody tr th {\n",
       "        vertical-align: top;\n",
       "    }\n",
       "\n",
       "    .dataframe thead th {\n",
       "        text-align: right;\n",
       "    }\n",
       "</style>\n",
       "<table border=\"1\" class=\"dataframe\">\n",
       "  <thead>\n",
       "    <tr style=\"text-align: right;\">\n",
       "      <th></th>\n",
       "      <th>Order_Amount</th>\n",
       "      <th>Assigned_Spending_Limit</th>\n",
       "      <th>Unique_Order_ID</th>\n",
       "    </tr>\n",
       "    <tr>\n",
       "      <th>Year_and_Month</th>\n",
       "      <th></th>\n",
       "      <th></th>\n",
       "      <th></th>\n",
       "    </tr>\n",
       "  </thead>\n",
       "  <tbody>\n",
       "    <tr>\n",
       "      <th>2017-01-01</th>\n",
       "      <td>1378.784234</td>\n",
       "      <td>3987.500000</td>\n",
       "      <td>496</td>\n",
       "    </tr>\n",
       "    <tr>\n",
       "      <th>2017-02-01</th>\n",
       "      <td>1203.134506</td>\n",
       "      <td>3825.536013</td>\n",
       "      <td>597</td>\n",
       "    </tr>\n",
       "    <tr>\n",
       "      <th>2017-03-01</th>\n",
       "      <td>1299.371807</td>\n",
       "      <td>3657.108434</td>\n",
       "      <td>498</td>\n",
       "    </tr>\n",
       "    <tr>\n",
       "      <th>2017-04-01</th>\n",
       "      <td>1250.895404</td>\n",
       "      <td>3675.269151</td>\n",
       "      <td>483</td>\n",
       "    </tr>\n",
       "    <tr>\n",
       "      <th>2017-05-01</th>\n",
       "      <td>1232.063953</td>\n",
       "      <td>3740.720930</td>\n",
       "      <td>645</td>\n",
       "    </tr>\n",
       "    <tr>\n",
       "      <th>2017-06-01</th>\n",
       "      <td>1301.186185</td>\n",
       "      <td>3524.226933</td>\n",
       "      <td>401</td>\n",
       "    </tr>\n",
       "    <tr>\n",
       "      <th>2017-07-01</th>\n",
       "      <td>1303.120537</td>\n",
       "      <td>3430.328032</td>\n",
       "      <td>503</td>\n",
       "    </tr>\n",
       "    <tr>\n",
       "      <th>2017-08-01</th>\n",
       "      <td>1235.713243</td>\n",
       "      <td>3577.306950</td>\n",
       "      <td>518</td>\n",
       "    </tr>\n",
       "    <tr>\n",
       "      <th>2017-09-01</th>\n",
       "      <td>1177.683406</td>\n",
       "      <td>3542.246377</td>\n",
       "      <td>552</td>\n",
       "    </tr>\n",
       "    <tr>\n",
       "      <th>2017-10-01</th>\n",
       "      <td>1216.889049</td>\n",
       "      <td>3575.756484</td>\n",
       "      <td>694</td>\n",
       "    </tr>\n",
       "    <tr>\n",
       "      <th>2017-11-01</th>\n",
       "      <td>1235.905783</td>\n",
       "      <td>3630.000000</td>\n",
       "      <td>773</td>\n",
       "    </tr>\n",
       "    <tr>\n",
       "      <th>2017-12-01</th>\n",
       "      <td>1230.762294</td>\n",
       "      <td>3587.780027</td>\n",
       "      <td>741</td>\n",
       "    </tr>\n",
       "    <tr>\n",
       "      <th>2018-01-01</th>\n",
       "      <td>1220.365422</td>\n",
       "      <td>3386.557659</td>\n",
       "      <td>581</td>\n",
       "    </tr>\n",
       "    <tr>\n",
       "      <th>2018-02-01</th>\n",
       "      <td>1139.078758</td>\n",
       "      <td>3417.307047</td>\n",
       "      <td>596</td>\n",
       "    </tr>\n",
       "    <tr>\n",
       "      <th>2018-03-01</th>\n",
       "      <td>1214.802454</td>\n",
       "      <td>3477.537563</td>\n",
       "      <td>599</td>\n",
       "    </tr>\n",
       "    <tr>\n",
       "      <th>2018-04-01</th>\n",
       "      <td>1226.500221</td>\n",
       "      <td>3496.281834</td>\n",
       "      <td>589</td>\n",
       "    </tr>\n",
       "    <tr>\n",
       "      <th>2018-05-01</th>\n",
       "      <td>1164.350690</td>\n",
       "      <td>3574.054697</td>\n",
       "      <td>841</td>\n",
       "    </tr>\n",
       "    <tr>\n",
       "      <th>2018-06-01</th>\n",
       "      <td>1335.911370</td>\n",
       "      <td>3397.887439</td>\n",
       "      <td>613</td>\n",
       "    </tr>\n",
       "    <tr>\n",
       "      <th>2018-07-01</th>\n",
       "      <td>1178.636358</td>\n",
       "      <td>3881.444892</td>\n",
       "      <td>744</td>\n",
       "    </tr>\n",
       "    <tr>\n",
       "      <th>2018-08-01</th>\n",
       "      <td>1239.576986</td>\n",
       "      <td>4288.767606</td>\n",
       "      <td>710</td>\n",
       "    </tr>\n",
       "    <tr>\n",
       "      <th>2018-09-01</th>\n",
       "      <td>1185.187796</td>\n",
       "      <td>4524.710052</td>\n",
       "      <td>776</td>\n",
       "    </tr>\n",
       "    <tr>\n",
       "      <th>2018-10-01</th>\n",
       "      <td>1144.497229</td>\n",
       "      <td>4569.040778</td>\n",
       "      <td>1079</td>\n",
       "    </tr>\n",
       "    <tr>\n",
       "      <th>2018-11-01</th>\n",
       "      <td>1191.915965</td>\n",
       "      <td>4707.919294</td>\n",
       "      <td>793</td>\n",
       "    </tr>\n",
       "    <tr>\n",
       "      <th>2018-12-01</th>\n",
       "      <td>1273.246448</td>\n",
       "      <td>4529.257908</td>\n",
       "      <td>822</td>\n",
       "    </tr>\n",
       "    <tr>\n",
       "      <th>2019-01-01</th>\n",
       "      <td>1187.672525</td>\n",
       "      <td>4599.421998</td>\n",
       "      <td>891</td>\n",
       "    </tr>\n",
       "    <tr>\n",
       "      <th>2019-02-01</th>\n",
       "      <td>1201.260601</td>\n",
       "      <td>4730.595494</td>\n",
       "      <td>932</td>\n",
       "    </tr>\n",
       "    <tr>\n",
       "      <th>2019-03-01</th>\n",
       "      <td>1217.868323</td>\n",
       "      <td>4619.306393</td>\n",
       "      <td>829</td>\n",
       "    </tr>\n",
       "    <tr>\n",
       "      <th>2019-04-01</th>\n",
       "      <td>1246.662955</td>\n",
       "      <td>4753.920455</td>\n",
       "      <td>880</td>\n",
       "    </tr>\n",
       "    <tr>\n",
       "      <th>2019-05-01</th>\n",
       "      <td>1225.513583</td>\n",
       "      <td>4620.931643</td>\n",
       "      <td>907</td>\n",
       "    </tr>\n",
       "    <tr>\n",
       "      <th>2019-06-01</th>\n",
       "      <td>1247.317805</td>\n",
       "      <td>4451.827411</td>\n",
       "      <td>788</td>\n",
       "    </tr>\n",
       "    <tr>\n",
       "      <th>2019-07-01</th>\n",
       "      <td>1185.686571</td>\n",
       "      <td>4357.439153</td>\n",
       "      <td>945</td>\n",
       "    </tr>\n",
       "    <tr>\n",
       "      <th>2019-08-01</th>\n",
       "      <td>1202.532681</td>\n",
       "      <td>4738.495401</td>\n",
       "      <td>761</td>\n",
       "    </tr>\n",
       "    <tr>\n",
       "      <th>2019-09-01</th>\n",
       "      <td>1179.933752</td>\n",
       "      <td>4296.367629</td>\n",
       "      <td>797</td>\n",
       "    </tr>\n",
       "    <tr>\n",
       "      <th>2019-10-01</th>\n",
       "      <td>1190.343626</td>\n",
       "      <td>4491.218593</td>\n",
       "      <td>1194</td>\n",
       "    </tr>\n",
       "    <tr>\n",
       "      <th>2019-11-01</th>\n",
       "      <td>1150.152622</td>\n",
       "      <td>4503.571429</td>\n",
       "      <td>980</td>\n",
       "    </tr>\n",
       "  </tbody>\n",
       "</table>\n",
       "</div>"
      ],
      "text/plain": [
       "                Order_Amount  Assigned_Spending_Limit  Unique_Order_ID\n",
       "Year_and_Month                                                        \n",
       "2017-01-01       1378.784234              3987.500000              496\n",
       "2017-02-01       1203.134506              3825.536013              597\n",
       "2017-03-01       1299.371807              3657.108434              498\n",
       "2017-04-01       1250.895404              3675.269151              483\n",
       "2017-05-01       1232.063953              3740.720930              645\n",
       "2017-06-01       1301.186185              3524.226933              401\n",
       "2017-07-01       1303.120537              3430.328032              503\n",
       "2017-08-01       1235.713243              3577.306950              518\n",
       "2017-09-01       1177.683406              3542.246377              552\n",
       "2017-10-01       1216.889049              3575.756484              694\n",
       "2017-11-01       1235.905783              3630.000000              773\n",
       "2017-12-01       1230.762294              3587.780027              741\n",
       "2018-01-01       1220.365422              3386.557659              581\n",
       "2018-02-01       1139.078758              3417.307047              596\n",
       "2018-03-01       1214.802454              3477.537563              599\n",
       "2018-04-01       1226.500221              3496.281834              589\n",
       "2018-05-01       1164.350690              3574.054697              841\n",
       "2018-06-01       1335.911370              3397.887439              613\n",
       "2018-07-01       1178.636358              3881.444892              744\n",
       "2018-08-01       1239.576986              4288.767606              710\n",
       "2018-09-01       1185.187796              4524.710052              776\n",
       "2018-10-01       1144.497229              4569.040778             1079\n",
       "2018-11-01       1191.915965              4707.919294              793\n",
       "2018-12-01       1273.246448              4529.257908              822\n",
       "2019-01-01       1187.672525              4599.421998              891\n",
       "2019-02-01       1201.260601              4730.595494              932\n",
       "2019-03-01       1217.868323              4619.306393              829\n",
       "2019-04-01       1246.662955              4753.920455              880\n",
       "2019-05-01       1225.513583              4620.931643              907\n",
       "2019-06-01       1247.317805              4451.827411              788\n",
       "2019-07-01       1185.686571              4357.439153              945\n",
       "2019-08-01       1202.532681              4738.495401              761\n",
       "2019-09-01       1179.933752              4296.367629              797\n",
       "2019-10-01       1190.343626              4491.218593             1194\n",
       "2019-11-01       1150.152622              4503.571429              980"
      ]
     },
     "execution_count": 22,
     "metadata": {},
     "output_type": "execute_result"
    }
   ],
   "source": [
    "fed_bad.groupby('Year_and_Month').agg({'Order_Amount':\"mean\",'Assigned_Spending_Limit':'mean','Unique_Order_ID':'count'})"
   ]
  },
  {
   "cell_type": "code",
   "execution_count": 37,
   "metadata": {
    "ExecuteTime": {
     "end_time": "2019-12-27T15:25:29.160116Z",
     "start_time": "2019-12-27T15:25:29.037817Z"
    }
   },
   "outputs": [
    {
     "data": {
      "text/plain": [
       "<matplotlib.axes._subplots.AxesSubplot at 0x7f1f04ca4320>"
      ]
     },
     "execution_count": 37,
     "metadata": {},
     "output_type": "execute_result"
    },
    {
     "data": {
      "image/png": "[encoded data removed]",
      "text/plain": [
       "<Figure size 432x288 with 1 Axes>"
      ]
     },
     "metadata": {
      "needs_background": "light"
     },
     "output_type": "display_data"
    }
   ],
   "source": [
    "fed_bad[fed_bad['Year_and_Month']==pd.to_datetime('2018-06-01')]['Assigned_Spending_Limit'].hist(bins=20)"
   ]
  },
  {
   "cell_type": "code",
   "execution_count": 28,
   "metadata": {
    "ExecuteTime": {
     "end_time": "2019-12-27T15:00:52.480736Z",
     "start_time": "2019-12-27T15:00:52.472703Z"
    }
   },
   "outputs": [
    {
     "data": {
      "text/plain": [
       "count     613.000000\n",
       "mean     3397.887439\n",
       "std      1233.476336\n",
       "min      1430.000000\n",
       "25%      2340.000000\n",
       "50%      3120.000000\n",
       "75%      4390.000000\n",
       "max      6245.000000\n",
       "Name: Assigned_Spending_Limit, dtype: float64"
      ]
     },
     "execution_count": 28,
     "metadata": {},
     "output_type": "execute_result"
    }
   ],
   "source": [
    "fed_bad[fed_bad['Year_and_Month']==pd.to_datetime('2018-06-01')]['Assigned_Spending_Limit'].describe()"
   ]
  },
  {
   "cell_type": "code",
   "execution_count": 38,
   "metadata": {
    "ExecuteTime": {
     "end_time": "2019-12-27T15:25:34.696774Z",
     "start_time": "2019-12-27T15:25:34.581043Z"
    }
   },
   "outputs": [
    {
     "data": {
      "text/plain": [
       "<matplotlib.axes._subplots.AxesSubplot at 0x7f1f04ccc390>"
      ]
     },
     "execution_count": 38,
     "metadata": {},
     "output_type": "execute_result"
    },
    {
     "data": {
      "image/png": "[encoded data removed]",
      "text/plain": [
       "<Figure size 432x288 with 1 Axes>"
      ]
     },
     "metadata": {
      "needs_background": "light"
     },
     "output_type": "display_data"
    }
   ],
   "source": [
    "fed_bad[fed_bad['Year_and_Month']==pd.to_datetime('2018-07-01')]['Assigned_Spending_Limit'].hist(bins=20)"
   ]
  },
  {
   "cell_type": "code",
   "execution_count": 27,
   "metadata": {
    "ExecuteTime": {
     "end_time": "2019-12-27T15:00:40.944979Z",
     "start_time": "2019-12-27T15:00:40.936160Z"
    }
   },
   "outputs": [
    {
     "data": {
      "text/plain": [
       "count     744.000000\n",
       "mean     3881.444892\n",
       "std      1592.624391\n",
       "min      1430.000000\n",
       "25%      2645.000000\n",
       "50%      3570.000000\n",
       "75%      4800.000000\n",
       "max      9660.000000\n",
       "Name: Assigned_Spending_Limit, dtype: float64"
      ]
     },
     "execution_count": 27,
     "metadata": {},
     "output_type": "execute_result"
    }
   ],
   "source": [
    "fed_bad[fed_bad['Year_and_Month']==pd.to_datetime('2018-07-01')]['Assigned_Spending_Limit'].describe()"
   ]
  },
  {
   "cell_type": "code",
   "execution_count": 39,
   "metadata": {
    "ExecuteTime": {
     "end_time": "2019-12-27T15:25:57.262083Z",
     "start_time": "2019-12-27T15:25:57.146742Z"
    }
   },
   "outputs": [
    {
     "data": {
      "text/plain": [
       "<matplotlib.axes._subplots.AxesSubplot at 0x7f1f73737dd8>"
      ]
     },
     "execution_count": 39,
     "metadata": {},
     "output_type": "execute_result"
    },
    {
     "data": {
      "image/png": "[encoded data removed]",
      "text/plain": [
       "<Figure size 432x288 with 1 Axes>"
      ]
     },
     "metadata": {
      "needs_background": "light"
     },
     "output_type": "display_data"
    }
   ],
   "source": [
    "fed_bad[fed_bad['Year_and_Month']==pd.to_datetime('2018-08-01')]['Assigned_Spending_Limit'].hist(bins=20)"
   ]
  },
  {
   "cell_type": "code",
   "execution_count": 40,
   "metadata": {
    "ExecuteTime": {
     "end_time": "2019-12-27T15:26:01.537453Z",
     "start_time": "2019-12-27T15:26:01.410994Z"
    }
   },
   "outputs": [
    {
     "data": {
      "text/plain": [
       "<matplotlib.axes._subplots.AxesSubplot at 0x7f1f4781d8d0>"
      ]
     },
     "execution_count": 40,
     "metadata": {},
     "output_type": "execute_result"
    },
    {
     "data": {
      "image/png": "[encoded data removed]",
      "text/plain": [
       "<Figure size 432x288 with 1 Axes>"
      ]
     },
     "metadata": {
      "needs_background": "light"
     },
     "output_type": "display_data"
    }
   ],
   "source": [
    "fed_bad[fed_bad['Year_and_Month']==pd.to_datetime('2018-09-01')]['Assigned_Spending_Limit'].hist(bins=20)"
   ]
  },
  {
   "cell_type": "code",
   "execution_count": 34,
   "metadata": {
    "ExecuteTime": {
     "end_time": "2019-12-27T15:06:29.618125Z",
     "start_time": "2019-12-27T15:06:29.613166Z"
    }
   },
   "outputs": [
    {
     "data": {
      "text/plain": [
       "38"
      ]
     },
     "execution_count": 34,
     "metadata": {},
     "output_type": "execute_result"
    }
   ],
   "source": [
    "fed_bad[(fed_bad['Year_and_Month']==pd.to_datetime('2018-09-01'))&(fed_bad['Assigned_Spending_Limit']==9660)].shape[0]"
   ]
  },
  {
   "cell_type": "code",
   "execution_count": 36,
   "metadata": {
    "ExecuteTime": {
     "end_time": "2019-12-27T15:25:15.045137Z",
     "start_time": "2019-12-27T15:25:15.036733Z"
    }
   },
   "outputs": [
    {
     "data": {
      "text/plain": [
       "count     738.000000\n",
       "mean     4260.291328\n",
       "std      1627.325791\n",
       "min      1560.000000\n",
       "25%      3060.000000\n",
       "50%      3990.000000\n",
       "75%      5140.000000\n",
       "max      8650.000000\n",
       "Name: Assigned_Spending_Limit, dtype: float64"
      ]
     },
     "execution_count": 36,
     "metadata": {},
     "output_type": "execute_result"
    }
   ],
   "source": [
    "fed_bad[(fed_bad['Year_and_Month']==pd.to_datetime('2018-09-01'))&(fed_bad['Assigned_Spending_Limit']<9660)]['Assigned_Spending_Limit'].describe()"
   ]
  },
  {
   "cell_type": "code",
   "execution_count": 32,
   "metadata": {
    "ExecuteTime": {
     "end_time": "2019-12-27T15:05:24.804685Z",
     "start_time": "2019-12-27T15:05:24.784216Z"
    }
   },
   "outputs": [
    {
     "data": {
      "text/plain": [
       "25548"
      ]
     },
     "execution_count": 32,
     "metadata": {},
     "output_type": "execute_result"
    }
   ],
   "source": [
    "fed_bad['Unique_Order_ID'].nunique()"
   ]
  },
  {
   "cell_type": "markdown",
   "metadata": {},
   "source": [
    "## Start Constructing data"
   ]
  },
  {
   "cell_type": "markdown",
   "metadata": {},
   "source": [
    "### 1. Generating Customer Level Data"
   ]
  },
  {
   "cell_type": "code",
   "execution_count": 14,
   "metadata": {
    "ExecuteTime": {
     "end_time": "2019-12-20T23:39:14.109962Z",
     "start_time": "2019-12-20T23:36:58.544345Z"
    }
   },
   "outputs": [],
   "source": [
    "# Create time_window mark for 18-month data selection later\n",
    "Perf['time_window'] = Perf['Enrollment_Date'].dt.date + relativedelta(months=18)"
   ]
  },
  {
   "cell_type": "code",
   "execution_count": 41,
   "metadata": {
    "ExecuteTime": {
     "end_time": "2019-12-27T15:36:23.387539Z",
     "start_time": "2019-12-27T15:36:23.384182Z"
    }
   },
   "outputs": [
    {
     "data": {
      "text/plain": [
       "Index(['Unique_Customer_ID', 'Unique_Company_ID', 'Enrollment_Date', 'Assigned_Spending_Limit', 'Customer_Tenure', 'Customer_Salary', 'Prior_Customer_Flag', 'Street1', 'Street2', 'City', 'State', 'Zip', 'Status', 'Term_Date'], dtype='object')"
      ]
     },
     "execution_count": 41,
     "metadata": {},
     "output_type": "execute_result"
    }
   ],
   "source": [
    "Customer.columns"
   ]
  },
  {
   "cell_type": "code",
   "execution_count": 54,
   "metadata": {
    "ExecuteTime": {
     "end_time": "2019-12-27T15:46:25.004896Z",
     "start_time": "2019-12-27T15:46:25.000768Z"
    }
   },
   "outputs": [],
   "source": [
    "def Perf_filter(df):\n",
    "    \"\"\"\n",
    "    This function takes the Perf dataset and subgroup is with time window condition, \n",
    "    then it generates some of the customer-level variables that we expect, such as\n",
    "    Num_of_Contracts,Total_CO_Balance,Total_Spend\n",
    "    \n",
    "    The output would be a customer-level dataframe, where the customers are enrolled in 2017-04 to 2018-04 time period\n",
    "    \"\"\"\n",
    "    \n",
    "    # Select customers that enrolled in the past 18-30 months (mature)\n",
    "    df_sub = df[(df['Enrollment_Date'] <= pd.to_datetime('2018-04'))\n",
    "                & (df['Enrollment_Date'] >= pd.to_datetime('2015-04'))]\n",
    "    # Get the latest order records\n",
    "    df_sub = df_sub.loc[df_sub.groupby('Unique_Order_ID')[\n",
    "        'Year_and_Month'].idxmax()]\n",
    "    # create customer level data with \"# of orders\" and \"Bad Flag\"\n",
    "    df_sub = df_sub.groupby('Unique_Customer_ID').agg(\n",
    "        { 'Ever_Bad': 'sum','Order_Amount': 'mean'}).reset_index()\n",
    "    # The definition of Bad here is whether a customer has at least 1 order goes bad\n",
    "    df_sub['Bad'] = df_sub['Ever_Bad'] >= 1\n",
    "\n",
    "    df_sub.rename(columns={'Order_Amount': 'Avg_Spend'}, inplace=True)\n",
    "\n",
    "    return df_sub"
   ]
  },
  {
   "cell_type": "code",
   "execution_count": 55,
   "metadata": {
    "ExecuteTime": {
     "end_time": "2019-12-27T15:48:08.240261Z",
     "start_time": "2019-12-27T15:46:26.587757Z"
    }
   },
   "outputs": [],
   "source": [
    "tmp = Perf_filter(Perf)"
   ]
  },
  {
   "cell_type": "code",
   "execution_count": 56,
   "metadata": {
    "ExecuteTime": {
     "end_time": "2019-12-27T15:48:08.245119Z",
     "start_time": "2019-12-27T15:48:08.242095Z"
    }
   },
   "outputs": [
    {
     "data": {
      "text/plain": [
       "(202303, 4)"
      ]
     },
     "execution_count": 56,
     "metadata": {},
     "output_type": "execute_result"
    }
   ],
   "source": [
    "tmp.shape"
   ]
  },
  {
   "cell_type": "code",
   "execution_count": 57,
   "metadata": {
    "ExecuteTime": {
     "end_time": "2019-12-27T15:48:08.253484Z",
     "start_time": "2019-12-27T15:48:08.246669Z"
    }
   },
   "outputs": [
    {
     "data": {
      "text/html": [
       "<div>\n",
       "<style scoped>\n",
       "    .dataframe tbody tr th:only-of-type {\n",
       "        vertical-align: middle;\n",
       "    }\n",
       "\n",
       "    .dataframe tbody tr th {\n",
       "        vertical-align: top;\n",
       "    }\n",
       "\n",
       "    .dataframe thead th {\n",
       "        text-align: right;\n",
       "    }\n",
       "</style>\n",
       "<table border=\"1\" class=\"dataframe\">\n",
       "  <thead>\n",
       "    <tr style=\"text-align: right;\">\n",
       "      <th></th>\n",
       "      <th>Unique_Customer_ID</th>\n",
       "      <th>Ever_Bad</th>\n",
       "      <th>Avg_Spend</th>\n",
       "      <th>Bad</th>\n",
       "    </tr>\n",
       "  </thead>\n",
       "  <tbody>\n",
       "    <tr>\n",
       "      <th>0</th>\n",
       "      <td>100008346</td>\n",
       "      <td>0</td>\n",
       "      <td>896.640000</td>\n",
       "      <td>False</td>\n",
       "    </tr>\n",
       "    <tr>\n",
       "      <th>1</th>\n",
       "      <td>100227894</td>\n",
       "      <td>0</td>\n",
       "      <td>813.998333</td>\n",
       "      <td>False</td>\n",
       "    </tr>\n",
       "    <tr>\n",
       "      <th>2</th>\n",
       "      <td>220352799</td>\n",
       "      <td>7</td>\n",
       "      <td>1603.743333</td>\n",
       "      <td>True</td>\n",
       "    </tr>\n",
       "    <tr>\n",
       "      <th>3</th>\n",
       "      <td>300631237</td>\n",
       "      <td>4</td>\n",
       "      <td>1460.670000</td>\n",
       "      <td>True</td>\n",
       "    </tr>\n",
       "    <tr>\n",
       "      <th>4</th>\n",
       "      <td>300631241</td>\n",
       "      <td>0</td>\n",
       "      <td>666.366250</td>\n",
       "      <td>False</td>\n",
       "    </tr>\n",
       "  </tbody>\n",
       "</table>\n",
       "</div>"
      ],
      "text/plain": [
       "   Unique_Customer_ID  Ever_Bad    Avg_Spend    Bad\n",
       "0           100008346         0   896.640000  False\n",
       "1           100227894         0   813.998333  False\n",
       "2           220352799         7  1603.743333   True\n",
       "3           300631237         4  1460.670000   True\n",
       "4           300631241         0   666.366250  False"
      ]
     },
     "execution_count": 57,
     "metadata": {},
     "output_type": "execute_result"
    }
   ],
   "source": [
    "tmp.head()"
   ]
  },
  {
   "cell_type": "code",
   "execution_count": 67,
   "metadata": {
    "ExecuteTime": {
     "end_time": "2019-12-27T16:09:20.435395Z",
     "start_time": "2019-12-27T16:09:20.316096Z"
    }
   },
   "outputs": [],
   "source": [
    "# Let's just call our first merged dataset df..., merge tmp with Customer, we'll have `Customer_Tenure`, \n",
    "# `Customer_Tenure` and `Assigned_Spending_Limit`...\n",
    "df = tmp[['Unique_Customer_ID','Bad','Avg_Spend']].merge(\n",
    "    Customer[['Unique_Customer_ID','Unique_Company_ID','Assigned_Spending_Limit','Customer_Tenure','Customer_Salary','Enrollment_Date']], how='left', on='Unique_Customer_ID')"
   ]
  },
  {
   "cell_type": "code",
   "execution_count": 68,
   "metadata": {
    "ExecuteTime": {
     "end_time": "2019-12-27T16:09:21.063404Z",
     "start_time": "2019-12-27T16:09:21.060565Z"
    }
   },
   "outputs": [
    {
     "data": {
      "text/plain": [
       "(202303, 8)"
      ]
     },
     "execution_count": 68,
     "metadata": {},
     "output_type": "execute_result"
    }
   ],
   "source": [
    "df.shape"
   ]
  },
  {
   "cell_type": "code",
   "execution_count": 69,
   "metadata": {
    "ExecuteTime": {
     "end_time": "2019-12-27T16:09:21.581601Z",
     "start_time": "2019-12-27T16:09:21.572475Z"
    }
   },
   "outputs": [
    {
     "data": {
      "text/html": [
       "<div>\n",
       "<style scoped>\n",
       "    .dataframe tbody tr th:only-of-type {\n",
       "        vertical-align: middle;\n",
       "    }\n",
       "\n",
       "    .dataframe tbody tr th {\n",
       "        vertical-align: top;\n",
       "    }\n",
       "\n",
       "    .dataframe thead th {\n",
       "        text-align: right;\n",
       "    }\n",
       "</style>\n",
       "<table border=\"1\" class=\"dataframe\">\n",
       "  <thead>\n",
       "    <tr style=\"text-align: right;\">\n",
       "      <th></th>\n",
       "      <th>Unique_Customer_ID</th>\n",
       "      <th>Bad</th>\n",
       "      <th>Avg_Spend</th>\n",
       "      <th>Unique_Company_ID</th>\n",
       "      <th>Assigned_Spending_Limit</th>\n",
       "      <th>Customer_Tenure</th>\n",
       "      <th>Customer_Salary</th>\n",
       "      <th>Enrollment_Date</th>\n",
       "    </tr>\n",
       "  </thead>\n",
       "  <tbody>\n",
       "    <tr>\n",
       "      <th>0</th>\n",
       "      <td>100008346</td>\n",
       "      <td>False</td>\n",
       "      <td>896.640000</td>\n",
       "      <td>1000</td>\n",
       "      <td>6880.0</td>\n",
       "      <td>230.0</td>\n",
       "      <td>59979.00</td>\n",
       "      <td>2016-03-28</td>\n",
       "    </tr>\n",
       "    <tr>\n",
       "      <th>1</th>\n",
       "      <td>100227894</td>\n",
       "      <td>False</td>\n",
       "      <td>813.998333</td>\n",
       "      <td>2404</td>\n",
       "      <td>4990.0</td>\n",
       "      <td>162.0</td>\n",
       "      <td>43443.00</td>\n",
       "      <td>2015-05-20</td>\n",
       "    </tr>\n",
       "    <tr>\n",
       "      <th>2</th>\n",
       "      <td>220352799</td>\n",
       "      <td>True</td>\n",
       "      <td>1603.743333</td>\n",
       "      <td>2049</td>\n",
       "      <td>8650.0</td>\n",
       "      <td>295.0</td>\n",
       "      <td>78017.00</td>\n",
       "      <td>2015-04-01</td>\n",
       "    </tr>\n",
       "    <tr>\n",
       "      <th>3</th>\n",
       "      <td>300631237</td>\n",
       "      <td>True</td>\n",
       "      <td>1460.670000</td>\n",
       "      <td>2311</td>\n",
       "      <td>2325.0</td>\n",
       "      <td>61.0</td>\n",
       "      <td>28909.92</td>\n",
       "      <td>2015-04-01</td>\n",
       "    </tr>\n",
       "    <tr>\n",
       "      <th>4</th>\n",
       "      <td>300631241</td>\n",
       "      <td>False</td>\n",
       "      <td>666.366250</td>\n",
       "      <td>2400</td>\n",
       "      <td>3415.0</td>\n",
       "      <td>143.0</td>\n",
       "      <td>33033.00</td>\n",
       "      <td>2015-04-01</td>\n",
       "    </tr>\n",
       "  </tbody>\n",
       "</table>\n",
       "</div>"
      ],
      "text/plain": [
       "   Unique_Customer_ID    Bad    Avg_Spend  Unique_Company_ID  Assigned_Spending_Limit  Customer_Tenure  Customer_Salary Enrollment_Date\n",
       "0           100008346  False   896.640000               1000                   6880.0            230.0         59979.00      2016-03-28\n",
       "1           100227894  False   813.998333               2404                   4990.0            162.0         43443.00      2015-05-20\n",
       "2           220352799   True  1603.743333               2049                   8650.0            295.0         78017.00      2015-04-01\n",
       "3           300631237   True  1460.670000               2311                   2325.0             61.0         28909.92      2015-04-01\n",
       "4           300631241  False   666.366250               2400                   3415.0            143.0         33033.00      2015-04-01"
      ]
     },
     "execution_count": 69,
     "metadata": {},
     "output_type": "execute_result"
    }
   ],
   "source": [
    "df.head()"
   ]
  },
  {
   "cell_type": "code",
   "execution_count": 97,
   "metadata": {
    "ExecuteTime": {
     "end_time": "2019-12-27T16:25:27.498250Z",
     "start_time": "2019-12-27T16:25:25.863782Z"
    }
   },
   "outputs": [],
   "source": [
    "df['time_window'] = df['Enrollment_Date'].dt.date - relativedelta(months=12)"
   ]
  },
  {
   "cell_type": "code",
   "execution_count": 66,
   "metadata": {
    "ExecuteTime": {
     "end_time": "2019-12-27T16:03:39.840902Z",
     "start_time": "2019-12-27T16:03:39.830548Z"
    }
   },
   "outputs": [
    {
     "data": {
      "text/html": [
       "<div>\n",
       "<style scoped>\n",
       "    .dataframe tbody tr th:only-of-type {\n",
       "        vertical-align: middle;\n",
       "    }\n",
       "\n",
       "    .dataframe tbody tr th {\n",
       "        vertical-align: top;\n",
       "    }\n",
       "\n",
       "    .dataframe thead th {\n",
       "        text-align: right;\n",
       "    }\n",
       "</style>\n",
       "<table border=\"1\" class=\"dataframe\">\n",
       "  <thead>\n",
       "    <tr style=\"text-align: right;\">\n",
       "      <th></th>\n",
       "      <th>Unique_Customer_ID</th>\n",
       "      <th>Unique_Company_ID</th>\n",
       "      <th>Enrollment_Date</th>\n",
       "      <th>Assigned_Spending_Limit</th>\n",
       "      <th>Customer_Tenure</th>\n",
       "      <th>Customer_Salary</th>\n",
       "      <th>Prior_Customer_Flag</th>\n",
       "      <th>Street1</th>\n",
       "      <th>Street2</th>\n",
       "      <th>City</th>\n",
       "      <th>State</th>\n",
       "      <th>Zip</th>\n",
       "      <th>Status</th>\n",
       "      <th>Term_Date</th>\n",
       "    </tr>\n",
       "  </thead>\n",
       "  <tbody>\n",
       "    <tr>\n",
       "      <th>0</th>\n",
       "      <td>100001115</td>\n",
       "      <td>1000</td>\n",
       "      <td>2014-02-24</td>\n",
       "      <td>6880.0</td>\n",
       "      <td>230.0</td>\n",
       "      <td>58229.0</td>\n",
       "      <td>Repeat Buyer</td>\n",
       "      <td>1471 N EAST ST</td>\n",
       "      <td>NaN</td>\n",
       "      <td>YORK</td>\n",
       "      <td>PA</td>\n",
       "      <td>17406</td>\n",
       "      <td>Employed</td>\n",
       "      <td>NaN</td>\n",
       "    </tr>\n",
       "    <tr>\n",
       "      <th>1</th>\n",
       "      <td>100001120</td>\n",
       "      <td>1000</td>\n",
       "      <td>2014-02-24</td>\n",
       "      <td>6520.0</td>\n",
       "      <td>362.0</td>\n",
       "      <td>109245.0</td>\n",
       "      <td>Repeat Buyer</td>\n",
       "      <td>94 Brentwood Ln</td>\n",
       "      <td>NaN</td>\n",
       "      <td>Valley Stream</td>\n",
       "      <td>NY</td>\n",
       "      <td>11581</td>\n",
       "      <td>Employed</td>\n",
       "      <td>NaN</td>\n",
       "    </tr>\n",
       "    <tr>\n",
       "      <th>2</th>\n",
       "      <td>100001141</td>\n",
       "      <td>1000</td>\n",
       "      <td>2014-02-25</td>\n",
       "      <td>10290.0</td>\n",
       "      <td>337.0</td>\n",
       "      <td>127226.0</td>\n",
       "      <td>Repeat Buyer</td>\n",
       "      <td>103 KENILWORTH PARK DR</td>\n",
       "      <td>APT 2B</td>\n",
       "      <td>TOWSON</td>\n",
       "      <td>MD</td>\n",
       "      <td>21204</td>\n",
       "      <td>Employed</td>\n",
       "      <td>NaN</td>\n",
       "    </tr>\n",
       "    <tr>\n",
       "      <th>3</th>\n",
       "      <td>100001158</td>\n",
       "      <td>1000</td>\n",
       "      <td>2014-02-24</td>\n",
       "      <td>5190.0</td>\n",
       "      <td>419.0</td>\n",
       "      <td>49375.0</td>\n",
       "      <td>Repeat Buyer</td>\n",
       "      <td>1036 Braddish Ave</td>\n",
       "      <td>NaN</td>\n",
       "      <td>Baltimore</td>\n",
       "      <td>MD</td>\n",
       "      <td>21216</td>\n",
       "      <td>Employed</td>\n",
       "      <td>NaN</td>\n",
       "    </tr>\n",
       "    <tr>\n",
       "      <th>4</th>\n",
       "      <td>100001169</td>\n",
       "      <td>1000</td>\n",
       "      <td>2014-02-24</td>\n",
       "      <td>7500.0</td>\n",
       "      <td>448.0</td>\n",
       "      <td>69460.0</td>\n",
       "      <td>Repeat Buyer</td>\n",
       "      <td>3915 W ROGERS AVE</td>\n",
       "      <td>NaN</td>\n",
       "      <td>BALTIMORE</td>\n",
       "      <td>MD</td>\n",
       "      <td>21215</td>\n",
       "      <td>Employed</td>\n",
       "      <td>NaN</td>\n",
       "    </tr>\n",
       "  </tbody>\n",
       "</table>\n",
       "</div>"
      ],
      "text/plain": [
       "   Unique_Customer_ID  Unique_Company_ID Enrollment_Date  Assigned_Spending_Limit  Customer_Tenure  Customer_Salary Prior_Customer_Flag                 Street1 Street2           City State    Zip    Status Term_Date\n",
       "0           100001115               1000      2014-02-24                   6880.0            230.0          58229.0        Repeat Buyer          1471 N EAST ST     NaN           YORK    PA  17406  Employed       NaN\n",
       "1           100001120               1000      2014-02-24                   6520.0            362.0         109245.0        Repeat Buyer         94 Brentwood Ln     NaN  Valley Stream    NY  11581  Employed       NaN\n",
       "2           100001141               1000      2014-02-25                  10290.0            337.0         127226.0        Repeat Buyer  103 KENILWORTH PARK DR  APT 2B         TOWSON    MD  21204  Employed       NaN\n",
       "3           100001158               1000      2014-02-24                   5190.0            419.0          49375.0        Repeat Buyer       1036 Braddish Ave     NaN      Baltimore    MD  21216  Employed       NaN\n",
       "4           100001169               1000      2014-02-24                   7500.0            448.0          69460.0        Repeat Buyer       3915 W ROGERS AVE     NaN      BALTIMORE    MD  21215  Employed       NaN"
      ]
     },
     "execution_count": 66,
     "metadata": {},
     "output_type": "execute_result"
    }
   ],
   "source": [
    "Customer.head()"
   ]
  },
  {
   "cell_type": "code",
   "execution_count": 65,
   "metadata": {
    "ExecuteTime": {
     "end_time": "2019-12-27T16:02:50.878031Z",
     "start_time": "2019-12-27T16:02:50.866358Z"
    }
   },
   "outputs": [
    {
     "data": {
      "text/html": [
       "<div>\n",
       "<style scoped>\n",
       "    .dataframe tbody tr th:only-of-type {\n",
       "        vertical-align: middle;\n",
       "    }\n",
       "\n",
       "    .dataframe tbody tr th {\n",
       "        vertical-align: top;\n",
       "    }\n",
       "\n",
       "    .dataframe thead th {\n",
       "        text-align: right;\n",
       "    }\n",
       "</style>\n",
       "<table border=\"1\" class=\"dataframe\">\n",
       "  <thead>\n",
       "    <tr style=\"text-align: right;\">\n",
       "      <th></th>\n",
       "      <th>Active</th>\n",
       "      <th>Client ID</th>\n",
       "      <th>Account Name</th>\n",
       "      <th>Current Eligibles</th>\n",
       "      <th>Eligibles at time of Launch</th>\n",
       "      <th>Industry</th>\n",
       "      <th>NAICS Code</th>\n",
       "      <th>NAICS Description</th>\n",
       "      <th>Broker</th>\n",
       "      <th>TPA</th>\n",
       "      <th>Launch Date</th>\n",
       "      <th>Termination Date</th>\n",
       "      <th>Affiliate/Fed Gov?</th>\n",
       "    </tr>\n",
       "  </thead>\n",
       "  <tbody>\n",
       "    <tr>\n",
       "      <th>0</th>\n",
       "      <td>Y</td>\n",
       "      <td>7601</td>\n",
       "      <td>Aetna</td>\n",
       "      <td>NaN</td>\n",
       "      <td>NaN</td>\n",
       "      <td>Health Care and Social Assistance</td>\n",
       "      <td>NaN</td>\n",
       "      <td>NaN</td>\n",
       "      <td>NaN</td>\n",
       "      <td>NaN</td>\n",
       "      <td>2017-10-13</td>\n",
       "      <td>NaT</td>\n",
       "      <td>Affiliate</td>\n",
       "    </tr>\n",
       "    <tr>\n",
       "      <th>1</th>\n",
       "      <td>Y</td>\n",
       "      <td>1500</td>\n",
       "      <td>PPC SELECT</td>\n",
       "      <td>NaN</td>\n",
       "      <td>NaN</td>\n",
       "      <td>Other Services (except Public Administration)</td>\n",
       "      <td>NaN</td>\n",
       "      <td>NaN</td>\n",
       "      <td>NaN</td>\n",
       "      <td>NaN</td>\n",
       "      <td>NaT</td>\n",
       "      <td>NaT</td>\n",
       "      <td>NaN</td>\n",
       "    </tr>\n",
       "    <tr>\n",
       "      <th>2</th>\n",
       "      <td>Y</td>\n",
       "      <td>4270</td>\n",
       "      <td>ATLANTIC GENERAL HOSPITAL</td>\n",
       "      <td>418.0</td>\n",
       "      <td>418.0</td>\n",
       "      <td>Health Care and Social Assistance</td>\n",
       "      <td>622110.0</td>\n",
       "      <td>General Medical and Surgical Hospitals</td>\n",
       "      <td>Maryland Hospital Association/PRIME</td>\n",
       "      <td>NaN</td>\n",
       "      <td>2006-03-01</td>\n",
       "      <td>NaT</td>\n",
       "      <td>Affiliate</td>\n",
       "    </tr>\n",
       "    <tr>\n",
       "      <th>3</th>\n",
       "      <td>Y</td>\n",
       "      <td>1000</td>\n",
       "      <td>SOCIAL SECURITY ADMINISTRATION</td>\n",
       "      <td>60000.0</td>\n",
       "      <td>70000.0</td>\n",
       "      <td>Federal Government/Associations</td>\n",
       "      <td>923130.0</td>\n",
       "      <td>Administration of Social, Human Resource and I...</td>\n",
       "      <td>PPC</td>\n",
       "      <td>EAA</td>\n",
       "      <td>2002-07-01</td>\n",
       "      <td>NaT</td>\n",
       "      <td>Fed Gov</td>\n",
       "    </tr>\n",
       "    <tr>\n",
       "      <th>4</th>\n",
       "      <td>Y</td>\n",
       "      <td>3900</td>\n",
       "      <td>STEPHENS, INC</td>\n",
       "      <td>1000.0</td>\n",
       "      <td>1000.0</td>\n",
       "      <td>Finance and Insurance</td>\n",
       "      <td>523110.0</td>\n",
       "      <td>Investment Banking and Securities Dealing</td>\n",
       "      <td>PPC</td>\n",
       "      <td>NaN</td>\n",
       "      <td>2002-02-01</td>\n",
       "      <td>NaT</td>\n",
       "      <td>Affiliate</td>\n",
       "    </tr>\n",
       "  </tbody>\n",
       "</table>\n",
       "</div>"
      ],
      "text/plain": [
       "  Active  Client ID                    Account Name  Current Eligibles  Eligibles at time of Launch                                       Industry  NAICS Code                                  NAICS Description                               Broker  TPA Launch Date Termination Date Affiliate/Fed Gov?\n",
       "0      Y       7601                           Aetna                NaN                          NaN              Health Care and Social Assistance         NaN                                                NaN                                  NaN  NaN  2017-10-13              NaT          Affiliate\n",
       "1      Y       1500                      PPC SELECT                NaN                          NaN  Other Services (except Public Administration)         NaN                                                NaN                                  NaN  NaN         NaT              NaT                NaN\n",
       "2      Y       4270       ATLANTIC GENERAL HOSPITAL              418.0                        418.0              Health Care and Social Assistance    622110.0             General Medical and Surgical Hospitals  Maryland Hospital Association/PRIME  NaN  2006-03-01              NaT          Affiliate\n",
       "3      Y       1000  SOCIAL SECURITY ADMINISTRATION            60000.0                      70000.0                Federal Government/Associations    923130.0  Administration of Social, Human Resource and I...                                  PPC  EAA  2002-07-01              NaT            Fed Gov\n",
       "4      Y       3900                   STEPHENS, INC             1000.0                       1000.0                          Finance and Insurance    523110.0          Investment Banking and Securities Dealing                                  PPC  NaN  2002-02-01              NaT          Affiliate"
      ]
     },
     "execution_count": 65,
     "metadata": {},
     "output_type": "execute_result"
    }
   ],
   "source": [
    "Client.head()"
   ]
  },
  {
   "cell_type": "markdown",
   "metadata": {},
   "source": [
    "### 2. Generating `Client Risk` --- Terminate Rate\n",
    "- Over the 12m prior to a specific customer's enrollment date, how many customer made orders and how many terminated over that time period."
   ]
  },
  {
   "cell_type": "code",
   "execution_count": 102,
   "metadata": {
    "ExecuteTime": {
     "end_time": "2019-12-27T17:11:21.698320Z",
     "start_time": "2019-12-27T17:11:21.694583Z"
    }
   },
   "outputs": [],
   "source": [
    "def term_rate(x):\n",
    "    Perf_p12m = Perf[(Perf['Year_and_Month'] <= x['Enrollment_Date']) & (Perf['Year_and_Month'] >= x['time_window']) & (Perf['Unique_Company_ID'] == x['Unique_Company_ID'])]\n",
    "    if Perf_p12m['Unique_Customer_ID'].nunique() == 0:\n",
    "        return 0\n",
    "    else: \n",
    "        return Perf_p12m[(Perf_p12m['Status'] == 'Terminated')]['Unique_Customer_ID'].nunique()/Perf_p12m['Unique_Customer_ID'].nunique()"
   ]
  },
  {
   "cell_type": "code",
   "execution_count": null,
   "metadata": {},
   "outputs": [],
   "source": []
  },
  {
   "cell_type": "code",
   "execution_count": null,
   "metadata": {
    "ExecuteTime": {
     "start_time": "2019-12-27T17:11:22.879Z"
    }
   },
   "outputs": [],
   "source": [
    "# this function could take forever I guess\n",
    "df['Terminated_Rate'] = df.apply(lambda x: term_rate(x),axis=1)"
   ]
  },
  {
   "cell_type": "code",
   "execution_count": null,
   "metadata": {
    "ExecuteTime": {
     "start_time": "2019-12-27T17:22:02.161Z"
    }
   },
   "outputs": [],
   "source": [
    "df = df.merge(Client[['Client ID','Active','Industry','Affiliate/Fed Gov?']],how='left', left_on = 'Unique_Company_ID',right_on='Client ID')"
   ]
  },
  {
   "cell_type": "code",
   "execution_count": null,
   "metadata": {
    "ExecuteTime": {
     "start_time": "2019-12-27T17:22:07.922Z"
    }
   },
   "outputs": [],
   "source": [
    "df.head()"
   ]
  },
  {
   "cell_type": "code",
   "execution_count": null,
   "metadata": {},
   "outputs": [],
   "source": [
    "# Load libraries\n",
    "import pandas as pd\n",
    "from sklearn.tree import DecisionTreeClassifier # Import Decision Tree Classifier\n",
    "from sklearn.model_selection import train_test_split # Import train_test_split function\n",
    "from sklearn import metrics #Import scikit-learn metrics module for accuracy calculation"
   ]
  },
  {
   "cell_type": "code",
   "execution_count": null,
   "metadata": {},
   "outputs": [],
   "source": [
    "X = df.drop(['Client ID','Unique_Customer_ID','Unique_Company_ID','Bad'],axis=1)\n",
    "y = df['Bad']"
   ]
  },
  {
   "cell_type": "code",
   "execution_count": null,
   "metadata": {},
   "outputs": [],
   "source": [
    "# Split dataset into training set and test set\n",
    "X_train, X_test, y_train, y_test = train_test_split(X, y, test_size=0.3, random_state=34) # 70% training and 30% test"
   ]
  },
  {
   "cell_type": "code",
   "execution_count": null,
   "metadata": {},
   "outputs": [],
   "source": [
    "# Create Decision Tree classifer object\n",
    "clf = DecisionTreeClassifier()\n",
    "\n",
    "# Train Decision Tree Classifer\n",
    "clf = clf.fit(X_train,y_train)\n",
    "\n",
    "#Predict the response for test dataset\n",
    "y_pred = clf.predict(X_test)"
   ]
  },
  {
   "cell_type": "code",
   "execution_count": null,
   "metadata": {},
   "outputs": [],
   "source": [
    "print(\"Accuracy:\",metrics.accuracy_score(y_test, y_pred))"
   ]
  },
  {
   "cell_type": "code",
   "execution_count": null,
   "metadata": {},
   "outputs": [],
   "source": []
  },
  {
   "cell_type": "code",
   "execution_count": 22,
   "metadata": {
    "ExecuteTime": {
     "end_time": "2019-12-20T23:40:33.238447Z",
     "start_time": "2019-12-20T23:40:30.651510Z"
    }
   },
   "outputs": [],
   "source": [
    "Perf_p12m = Perf[(Perf['Year_and_Month'] <= pd.to_datetime('2015-04'))              \n",
    "                & (Perf['Year_and_Month'] >= pd.to_datetime('2014-04'))]"
   ]
  },
  {
   "cell_type": "code",
   "execution_count": 23,
   "metadata": {
    "ExecuteTime": {
     "end_time": "2019-12-20T23:40:33.480139Z",
     "start_time": "2019-12-20T23:40:33.239826Z"
    }
   },
   "outputs": [],
   "source": [
    "# Get Total CO Balance per Client\n",
    "client_loss = Perf_p12m[(Perf_p12m['Bad'] == 1) & (\n",
    "    Perf_p12m['Ever_Bad'] <= 1)].groupby('Unique_Company_ID')['2os_loss'].sum().reset_index()"
   ]
  },
  {
   "cell_type": "code",
   "execution_count": 24,
   "metadata": {
    "ExecuteTime": {
     "end_time": "2019-12-20T23:40:37.497652Z",
     "start_time": "2019-12-20T23:40:33.482448Z"
    }
   },
   "outputs": [],
   "source": [
    "# Get Total Spend per Client\n",
    "client_order_vol = Perf_p12m.groupby(['Unique_Company_ID', 'Unique_Order_ID']).head(\n",
    "    1).groupby('Unique_Company_ID')['Order_Amount'].sum().reset_index()"
   ]
  },
  {
   "cell_type": "code",
   "execution_count": 25,
   "metadata": {
    "ExecuteTime": {
     "end_time": "2019-12-20T23:40:37.504970Z",
     "start_time": "2019-12-20T23:40:37.499409Z"
    }
   },
   "outputs": [],
   "source": [
    "# I really don't know how to name this dataset\n",
    "client_loss_m = client_loss.merge(client_order_vol, how='right',on='Unique_Company_ID')"
   ]
  },
  {
   "cell_type": "code",
   "execution_count": 26,
   "metadata": {
    "ExecuteTime": {
     "end_time": "2019-12-20T23:40:37.514218Z",
     "start_time": "2019-12-20T23:40:37.506089Z"
    }
   },
   "outputs": [
    {
     "data": {
      "text/html": [
       "<div>\n",
       "<style scoped>\n",
       "    .dataframe tbody tr th:only-of-type {\n",
       "        vertical-align: middle;\n",
       "    }\n",
       "\n",
       "    .dataframe tbody tr th {\n",
       "        vertical-align: top;\n",
       "    }\n",
       "\n",
       "    .dataframe thead th {\n",
       "        text-align: right;\n",
       "    }\n",
       "</style>\n",
       "<table border=\"1\" class=\"dataframe\">\n",
       "  <thead>\n",
       "    <tr style=\"text-align: right;\">\n",
       "      <th></th>\n",
       "      <th>Unique_Company_ID</th>\n",
       "      <th>2os_loss</th>\n",
       "      <th>Order_Amount</th>\n",
       "    </tr>\n",
       "  </thead>\n",
       "  <tbody>\n",
       "    <tr>\n",
       "      <th>0</th>\n",
       "      <td>1000.0</td>\n",
       "      <td>216543.28</td>\n",
       "      <td>11203596.54</td>\n",
       "    </tr>\n",
       "    <tr>\n",
       "      <th>1</th>\n",
       "      <td>1200.0</td>\n",
       "      <td>17430.36</td>\n",
       "      <td>710638.32</td>\n",
       "    </tr>\n",
       "    <tr>\n",
       "      <th>2</th>\n",
       "      <td>1301.0</td>\n",
       "      <td>60.60</td>\n",
       "      <td>6820.50</td>\n",
       "    </tr>\n",
       "    <tr>\n",
       "      <th>3</th>\n",
       "      <td>1302.0</td>\n",
       "      <td>538.91</td>\n",
       "      <td>50913.44</td>\n",
       "    </tr>\n",
       "    <tr>\n",
       "      <th>4</th>\n",
       "      <td>1500.0</td>\n",
       "      <td>3379.07</td>\n",
       "      <td>1679927.63</td>\n",
       "    </tr>\n",
       "  </tbody>\n",
       "</table>\n",
       "</div>"
      ],
      "text/plain": [
       "   Unique_Company_ID   2os_loss  Order_Amount\n",
       "0             1000.0  216543.28   11203596.54\n",
       "1             1200.0   17430.36     710638.32\n",
       "2             1301.0      60.60       6820.50\n",
       "3             1302.0     538.91      50913.44\n",
       "4             1500.0    3379.07    1679927.63"
      ]
     },
     "execution_count": 26,
     "metadata": {},
     "output_type": "execute_result"
    }
   ],
   "source": [
    "client_loss_m.head()"
   ]
  },
  {
   "cell_type": "code",
   "execution_count": 27,
   "metadata": {
    "ExecuteTime": {
     "end_time": "2019-12-20T23:40:37.518016Z",
     "start_time": "2019-12-20T23:40:37.515249Z"
    }
   },
   "outputs": [],
   "source": [
    "client_loss_m['Client_Risk'] = client_loss_m['2os_loss']/client_loss_m['Order_Amount']"
   ]
  },
  {
   "cell_type": "code",
   "execution_count": 28,
   "metadata": {
    "ExecuteTime": {
     "end_time": "2019-12-20T23:40:37.522224Z",
     "start_time": "2019-12-20T23:40:37.519003Z"
    }
   },
   "outputs": [],
   "source": [
    "# Some client may have no loss where 2os_loss is NaN, resulting loss_rate == NaN, fill these with 0\n",
    "client_loss_m =  client_loss_m.fillna(0)"
   ]
  },
  {
   "cell_type": "code",
   "execution_count": 29,
   "metadata": {
    "ExecuteTime": {
     "end_time": "2019-12-20T23:40:37.546846Z",
     "start_time": "2019-12-20T23:40:37.523358Z"
    }
   },
   "outputs": [],
   "source": [
    "# Now merge the Clint risk to our first merged dataset df\n",
    "df = df.merge(client_loss_m[['Unique_Company_ID','Client_Risk']], how = 'left',on= 'Unique_Company_ID')"
   ]
  },
  {
   "cell_type": "markdown",
   "metadata": {},
   "source": [
    "### 3. Final Steps.."
   ]
  },
  {
   "cell_type": "code",
   "execution_count": 30,
   "metadata": {
    "ExecuteTime": {
     "end_time": "2019-12-20T23:40:37.563902Z",
     "start_time": "2019-12-20T23:40:37.548966Z"
    }
   },
   "outputs": [],
   "source": [
    "# Customers with missing `Client_Risk` means their company don't have any orders prior(12m) to their enrollment\n",
    "# Some Salary number seems to be ridiculous, treat them as outliers\n",
    "final = df[(df['Client_Risk'].notnull())&(df['Customer_Salary']>2000) &(df['Customer_Salary']!=9999999.99)]"
   ]
  },
  {
   "cell_type": "code",
   "execution_count": 31,
   "metadata": {
    "ExecuteTime": {
     "end_time": "2019-12-20T23:40:37.605294Z",
     "start_time": "2019-12-20T23:40:37.566049Z"
    }
   },
   "outputs": [
    {
     "data": {
      "text/html": [
       "<div>\n",
       "<style scoped>\n",
       "    .dataframe tbody tr th:only-of-type {\n",
       "        vertical-align: middle;\n",
       "    }\n",
       "\n",
       "    .dataframe tbody tr th {\n",
       "        vertical-align: top;\n",
       "    }\n",
       "\n",
       "    .dataframe thead th {\n",
       "        text-align: right;\n",
       "    }\n",
       "</style>\n",
       "<table border=\"1\" class=\"dataframe\">\n",
       "  <thead>\n",
       "    <tr style=\"text-align: right;\">\n",
       "      <th></th>\n",
       "      <th>Customer_Tenure</th>\n",
       "      <th>Customer_Salary</th>\n",
       "      <th>Assigned_Spending_Limit</th>\n",
       "      <th>Client_Risk</th>\n",
       "      <th>Num_of_Contracts</th>\n",
       "      <th>Total_CO_Balance</th>\n",
       "      <th>Total_Spend</th>\n",
       "    </tr>\n",
       "  </thead>\n",
       "  <tbody>\n",
       "    <tr>\n",
       "      <th>count</th>\n",
       "      <td>72031.000000</td>\n",
       "      <td>72031.000000</td>\n",
       "      <td>72031.000000</td>\n",
       "      <td>72031.000000</td>\n",
       "      <td>72031.000000</td>\n",
       "      <td>72031.000000</td>\n",
       "      <td>72031.000000</td>\n",
       "    </tr>\n",
       "    <tr>\n",
       "      <th>mean</th>\n",
       "      <td>79.702989</td>\n",
       "      <td>41366.802059</td>\n",
       "      <td>3658.995904</td>\n",
       "      <td>0.027663</td>\n",
       "      <td>4.273466</td>\n",
       "      <td>234.993017</td>\n",
       "      <td>3089.612642</td>\n",
       "    </tr>\n",
       "    <tr>\n",
       "      <th>std</th>\n",
       "      <td>71.252333</td>\n",
       "      <td>19453.695191</td>\n",
       "      <td>2228.914229</td>\n",
       "      <td>0.026077</td>\n",
       "      <td>5.094489</td>\n",
       "      <td>655.422507</td>\n",
       "      <td>3153.956408</td>\n",
       "    </tr>\n",
       "    <tr>\n",
       "      <th>min</th>\n",
       "      <td>1.000000</td>\n",
       "      <td>2308.000000</td>\n",
       "      <td>400.000000</td>\n",
       "      <td>0.000000</td>\n",
       "      <td>1.000000</td>\n",
       "      <td>0.000000</td>\n",
       "      <td>11.380000</td>\n",
       "    </tr>\n",
       "    <tr>\n",
       "      <th>25%</th>\n",
       "      <td>38.000000</td>\n",
       "      <td>29827.200000</td>\n",
       "      <td>1875.000000</td>\n",
       "      <td>0.002049</td>\n",
       "      <td>1.000000</td>\n",
       "      <td>0.000000</td>\n",
       "      <td>1018.835000</td>\n",
       "    </tr>\n",
       "    <tr>\n",
       "      <th>50%</th>\n",
       "      <td>50.000000</td>\n",
       "      <td>35741.000000</td>\n",
       "      <td>3260.000000</td>\n",
       "      <td>0.033255</td>\n",
       "      <td>3.000000</td>\n",
       "      <td>0.000000</td>\n",
       "      <td>2058.390000</td>\n",
       "    </tr>\n",
       "    <tr>\n",
       "      <th>75%</th>\n",
       "      <td>90.000000</td>\n",
       "      <td>47819.200000</td>\n",
       "      <td>4930.000000</td>\n",
       "      <td>0.035308</td>\n",
       "      <td>5.000000</td>\n",
       "      <td>0.000000</td>\n",
       "      <td>4016.765000</td>\n",
       "    </tr>\n",
       "    <tr>\n",
       "      <th>max</th>\n",
       "      <td>634.000000</td>\n",
       "      <td>762720.000000</td>\n",
       "      <td>13160.000000</td>\n",
       "      <td>0.316066</td>\n",
       "      <td>103.000000</td>\n",
       "      <td>9959.360000</td>\n",
       "      <td>41403.970000</td>\n",
       "    </tr>\n",
       "  </tbody>\n",
       "</table>\n",
       "</div>"
      ],
      "text/plain": [
       "       Customer_Tenure  Customer_Salary  Assigned_Spending_Limit   Client_Risk  Num_of_Contracts  Total_CO_Balance   Total_Spend\n",
       "count     72031.000000     72031.000000             72031.000000  72031.000000      72031.000000      72031.000000  72031.000000\n",
       "mean         79.702989     41366.802059              3658.995904      0.027663          4.273466        234.993017   3089.612642\n",
       "std          71.252333     19453.695191              2228.914229      0.026077          5.094489        655.422507   3153.956408\n",
       "min           1.000000      2308.000000               400.000000      0.000000          1.000000          0.000000     11.380000\n",
       "25%          38.000000     29827.200000              1875.000000      0.002049          1.000000          0.000000   1018.835000\n",
       "50%          50.000000     35741.000000              3260.000000      0.033255          3.000000          0.000000   2058.390000\n",
       "75%          90.000000     47819.200000              4930.000000      0.035308          5.000000          0.000000   4016.765000\n",
       "max         634.000000    762720.000000             13160.000000      0.316066        103.000000       9959.360000  41403.970000"
      ]
     },
     "execution_count": 31,
     "metadata": {},
     "output_type": "execute_result"
    }
   ],
   "source": [
    "# See the summary of important features\n",
    "final[['Customer_Tenure','Customer_Salary','Assigned_Spending_Limit','Client_Risk','Num_of_Contracts','Total_CO_Balance','Total_Spend']].describe()"
   ]
  },
  {
   "cell_type": "code",
   "execution_count": 176,
   "metadata": {
    "ExecuteTime": {
     "end_time": "2019-12-20T23:09:47.163518Z",
     "start_time": "2019-12-20T23:09:47.161767Z"
    }
   },
   "outputs": [],
   "source": [
    "# final.isnull().sum(axis=0)"
   ]
  },
  {
   "cell_type": "markdown",
   "metadata": {},
   "source": [
    "## Big Time: Output the final dataset"
   ]
  },
  {
   "cell_type": "code",
   "execution_count": null,
   "metadata": {},
   "outputs": [],
   "source": [
    "final.to_csv(output_path + filename +'.csv')"
   ]
  },
  {
   "cell_type": "code",
   "execution_count": null,
   "metadata": {},
   "outputs": [],
   "source": [
    "#----------------------------------------------- END ------------------------------------------------------#"
   ]
  },
  {
   "cell_type": "code",
   "execution_count": null,
   "metadata": {},
   "outputs": [],
   "source": []
  },
  {
   "cell_type": "code",
   "execution_count": null,
   "metadata": {},
   "outputs": [],
   "source": []
  },
  {
   "cell_type": "code",
   "execution_count": 32,
   "metadata": {
    "ExecuteTime": {
     "end_time": "2019-12-20T23:40:37.609010Z",
     "start_time": "2019-12-20T23:40:37.606401Z"
    }
   },
   "outputs": [
    {
     "data": {
      "text/plain": [
       "(72031, 19)"
      ]
     },
     "execution_count": 32,
     "metadata": {},
     "output_type": "execute_result"
    }
   ],
   "source": [
    "final.shape"
   ]
  },
  {
   "cell_type": "code",
   "execution_count": 33,
   "metadata": {
    "ExecuteTime": {
     "end_time": "2019-12-20T23:41:21.718014Z",
     "start_time": "2019-12-20T23:41:21.703448Z"
    }
   },
   "outputs": [
    {
     "data": {
      "text/html": [
       "<div>\n",
       "<style scoped>\n",
       "    .dataframe tbody tr th:only-of-type {\n",
       "        vertical-align: middle;\n",
       "    }\n",
       "\n",
       "    .dataframe tbody tr th {\n",
       "        vertical-align: top;\n",
       "    }\n",
       "\n",
       "    .dataframe thead th {\n",
       "        text-align: right;\n",
       "    }\n",
       "</style>\n",
       "<table border=\"1\" class=\"dataframe\">\n",
       "  <thead>\n",
       "    <tr style=\"text-align: right;\">\n",
       "      <th></th>\n",
       "      <th>Unique_Customer_ID</th>\n",
       "      <th>Bad</th>\n",
       "      <th>Num_of_Contracts</th>\n",
       "      <th>Total_CO_Balance</th>\n",
       "      <th>Total_Spend</th>\n",
       "      <th>Unique_Company_ID</th>\n",
       "      <th>Enrollment_Date</th>\n",
       "      <th>Assigned_Spending_Limit</th>\n",
       "      <th>Customer_Tenure</th>\n",
       "      <th>Customer_Salary</th>\n",
       "      <th>Prior_Customer_Flag</th>\n",
       "      <th>Street1</th>\n",
       "      <th>Street2</th>\n",
       "      <th>City</th>\n",
       "      <th>State</th>\n",
       "      <th>Zip</th>\n",
       "      <th>Status</th>\n",
       "      <th>Term_Date</th>\n",
       "      <th>Client_Risk</th>\n",
       "    </tr>\n",
       "  </thead>\n",
       "  <tbody>\n",
       "    <tr>\n",
       "      <th>0</th>\n",
       "      <td>302641212</td>\n",
       "      <td>False</td>\n",
       "      <td>1</td>\n",
       "      <td>0.0</td>\n",
       "      <td>1889.29</td>\n",
       "      <td>2183</td>\n",
       "      <td>2017-04-01</td>\n",
       "      <td>7260.0</td>\n",
       "      <td>317.0</td>\n",
       "      <td>47196.00</td>\n",
       "      <td>First Time Byer</td>\n",
       "      <td>214 S KESSING ST</td>\n",
       "      <td>NaN</td>\n",
       "      <td>PORTERVILLE</td>\n",
       "      <td>CA</td>\n",
       "      <td>93257</td>\n",
       "      <td>Employed</td>\n",
       "      <td>NaN</td>\n",
       "      <td>0.021343</td>\n",
       "    </tr>\n",
       "    <tr>\n",
       "      <th>1</th>\n",
       "      <td>302641217</td>\n",
       "      <td>False</td>\n",
       "      <td>1</td>\n",
       "      <td>0.0</td>\n",
       "      <td>304.34</td>\n",
       "      <td>2302</td>\n",
       "      <td>2017-04-01</td>\n",
       "      <td>500.0</td>\n",
       "      <td>44.0</td>\n",
       "      <td>11804.00</td>\n",
       "      <td>First Time Byer</td>\n",
       "      <td>6580 MORET DR S</td>\n",
       "      <td>NaN</td>\n",
       "      <td>JACKSONVILLE</td>\n",
       "      <td>FL</td>\n",
       "      <td>32244</td>\n",
       "      <td>Direct Bill</td>\n",
       "      <td>NaN</td>\n",
       "      <td>0.033438</td>\n",
       "    </tr>\n",
       "    <tr>\n",
       "      <th>2</th>\n",
       "      <td>302641220</td>\n",
       "      <td>False</td>\n",
       "      <td>3</td>\n",
       "      <td>0.0</td>\n",
       "      <td>4516.09</td>\n",
       "      <td>2250</td>\n",
       "      <td>2017-04-01</td>\n",
       "      <td>2940.0</td>\n",
       "      <td>34.0</td>\n",
       "      <td>34037.38</td>\n",
       "      <td>Repeat Buyer</td>\n",
       "      <td>2967 GORDON RD</td>\n",
       "      <td>NaN</td>\n",
       "      <td>ROCK HILL</td>\n",
       "      <td>SC</td>\n",
       "      <td>29732</td>\n",
       "      <td>Employed</td>\n",
       "      <td>NaN</td>\n",
       "      <td>0.040143</td>\n",
       "    </tr>\n",
       "    <tr>\n",
       "      <th>3</th>\n",
       "      <td>302641222</td>\n",
       "      <td>False</td>\n",
       "      <td>15</td>\n",
       "      <td>0.0</td>\n",
       "      <td>7546.45</td>\n",
       "      <td>2425</td>\n",
       "      <td>2017-04-01</td>\n",
       "      <td>3065.0</td>\n",
       "      <td>43.0</td>\n",
       "      <td>35495.09</td>\n",
       "      <td>Repeat Buyer</td>\n",
       "      <td>9231 S CYPRESS CIR</td>\n",
       "      <td>NaN</td>\n",
       "      <td>MIRAMAR</td>\n",
       "      <td>FL</td>\n",
       "      <td>33025</td>\n",
       "      <td>Employed</td>\n",
       "      <td>NaN</td>\n",
       "      <td>0.068904</td>\n",
       "    </tr>\n",
       "    <tr>\n",
       "      <th>4</th>\n",
       "      <td>302641226</td>\n",
       "      <td>False</td>\n",
       "      <td>13</td>\n",
       "      <td>0.0</td>\n",
       "      <td>8152.89</td>\n",
       "      <td>2464</td>\n",
       "      <td>2017-04-01</td>\n",
       "      <td>1500.0</td>\n",
       "      <td>33.0</td>\n",
       "      <td>55823.00</td>\n",
       "      <td>Repeat Buyer</td>\n",
       "      <td>2266 S HARWOOD AVE</td>\n",
       "      <td>NaN</td>\n",
       "      <td>UPPER DARBY</td>\n",
       "      <td>PA</td>\n",
       "      <td>19082</td>\n",
       "      <td>Direct Bill</td>\n",
       "      <td>NaN</td>\n",
       "      <td>0.002049</td>\n",
       "    </tr>\n",
       "  </tbody>\n",
       "</table>\n",
       "</div>"
      ],
      "text/plain": [
       "   Unique_Customer_ID    Bad  Num_of_Contracts  Total_CO_Balance  Total_Spend  Unique_Company_ID Enrollment_Date  Assigned_Spending_Limit  Customer_Tenure  Customer_Salary Prior_Customer_Flag             Street1 Street2          City State    Zip       Status Term_Date  Client_Risk\n",
       "0           302641212  False                 1               0.0      1889.29               2183      2017-04-01                   7260.0            317.0         47196.00     First Time Byer    214 S KESSING ST     NaN   PORTERVILLE    CA  93257     Employed       NaN     0.021343\n",
       "1           302641217  False                 1               0.0       304.34               2302      2017-04-01                    500.0             44.0         11804.00     First Time Byer     6580 MORET DR S     NaN  JACKSONVILLE    FL  32244  Direct Bill       NaN     0.033438\n",
       "2           302641220  False                 3               0.0      4516.09               2250      2017-04-01                   2940.0             34.0         34037.38        Repeat Buyer      2967 GORDON RD     NaN     ROCK HILL    SC  29732     Employed       NaN     0.040143\n",
       "3           302641222  False                15               0.0      7546.45               2425      2017-04-01                   3065.0             43.0         35495.09        Repeat Buyer  9231 S CYPRESS CIR     NaN       MIRAMAR    FL  33025     Employed       NaN     0.068904\n",
       "4           302641226  False                13               0.0      8152.89               2464      2017-04-01                   1500.0             33.0         55823.00        Repeat Buyer  2266 S HARWOOD AVE     NaN   UPPER DARBY    PA  19082  Direct Bill       NaN     0.002049"
      ]
     },
     "execution_count": 33,
     "metadata": {},
     "output_type": "execute_result"
    }
   ],
   "source": [
    "final.head()"
   ]
  },
  {
   "cell_type": "code",
   "execution_count": 34,
   "metadata": {
    "ExecuteTime": {
     "end_time": "2019-12-20T23:42:19.433625Z",
     "start_time": "2019-12-20T23:42:19.430773Z"
    }
   },
   "outputs": [],
   "source": [
    "def view(var,df):\n",
    "    print('Spending Limit by {}'.format(var))\n",
    "    df[var+'_bin'] = pd.qcut(df[var], q=4)\n",
    "    return df.groupby(var+'_bin').agg({'Assigned_Spending_Limit':'mean','Unique_Customer_ID':'count'}).round(2)"
   ]
  },
  {
   "cell_type": "code",
   "execution_count": 35,
   "metadata": {
    "ExecuteTime": {
     "end_time": "2019-12-20T23:42:20.220544Z",
     "start_time": "2019-12-20T23:42:20.119703Z"
    }
   },
   "outputs": [
    {
     "name": "stdout",
     "output_type": "stream",
     "text": [
      "Spending Limit by Customer_Salary\n"
     ]
    },
    {
     "data": {
      "text/html": [
       "<div>\n",
       "<style scoped>\n",
       "    .dataframe tbody tr th:only-of-type {\n",
       "        vertical-align: middle;\n",
       "    }\n",
       "\n",
       "    .dataframe tbody tr th {\n",
       "        vertical-align: top;\n",
       "    }\n",
       "\n",
       "    .dataframe thead th {\n",
       "        text-align: right;\n",
       "    }\n",
       "</style>\n",
       "<table border=\"1\" class=\"dataframe\">\n",
       "  <thead>\n",
       "    <tr style=\"text-align: right;\">\n",
       "      <th></th>\n",
       "      <th>Assigned_Spending_Limit</th>\n",
       "      <th>Unique_Customer_ID</th>\n",
       "    </tr>\n",
       "    <tr>\n",
       "      <th>Customer_Salary_bin</th>\n",
       "      <th></th>\n",
       "      <th></th>\n",
       "    </tr>\n",
       "  </thead>\n",
       "  <tbody>\n",
       "    <tr>\n",
       "      <th>(2307.999, 29827.2]</th>\n",
       "      <td>1605.42</td>\n",
       "      <td>18010</td>\n",
       "    </tr>\n",
       "    <tr>\n",
       "      <th>(29827.2, 35741.0]</th>\n",
       "      <td>2722.55</td>\n",
       "      <td>18006</td>\n",
       "    </tr>\n",
       "    <tr>\n",
       "      <th>(35741.0, 47819.2]</th>\n",
       "      <td>4046.47</td>\n",
       "      <td>18009</td>\n",
       "    </tr>\n",
       "    <tr>\n",
       "      <th>(47819.2, 762720.0]</th>\n",
       "      <td>6261.94</td>\n",
       "      <td>18006</td>\n",
       "    </tr>\n",
       "  </tbody>\n",
       "</table>\n",
       "</div>"
      ],
      "text/plain": [
       "                     Assigned_Spending_Limit  Unique_Customer_ID\n",
       "Customer_Salary_bin                                             \n",
       "(2307.999, 29827.2]                  1605.42               18010\n",
       "(29827.2, 35741.0]                   2722.55               18006\n",
       "(35741.0, 47819.2]                   4046.47               18009\n",
       "(47819.2, 762720.0]                  6261.94               18006"
      ]
     },
     "execution_count": 35,
     "metadata": {},
     "output_type": "execute_result"
    }
   ],
   "source": [
    "view('Customer_Salary',final)"
   ]
  },
  {
   "cell_type": "code",
   "execution_count": 120,
   "metadata": {
    "ExecuteTime": {
     "end_time": "2019-12-20T22:31:34.707747Z",
     "start_time": "2019-12-20T22:31:34.630461Z"
    }
   },
   "outputs": [
    {
     "name": "stdout",
     "output_type": "stream",
     "text": [
      "Spending Limit by Customer_Tenure\n"
     ]
    },
    {
     "data": {
      "text/html": [
       "<div>\n",
       "<style scoped>\n",
       "    .dataframe tbody tr th:only-of-type {\n",
       "        vertical-align: middle;\n",
       "    }\n",
       "\n",
       "    .dataframe tbody tr th {\n",
       "        vertical-align: top;\n",
       "    }\n",
       "\n",
       "    .dataframe thead th {\n",
       "        text-align: right;\n",
       "    }\n",
       "</style>\n",
       "<table border=\"1\" class=\"dataframe\">\n",
       "  <thead>\n",
       "    <tr style=\"text-align: right;\">\n",
       "      <th></th>\n",
       "      <th>Assigned_Spending_Limit</th>\n",
       "      <th>Unique_Customer_ID</th>\n",
       "    </tr>\n",
       "    <tr>\n",
       "      <th>Customer_Tenure_bin</th>\n",
       "      <th></th>\n",
       "      <th></th>\n",
       "    </tr>\n",
       "  </thead>\n",
       "  <tbody>\n",
       "    <tr>\n",
       "      <th>(0.999, 38.0]</th>\n",
       "      <td>2953.69</td>\n",
       "      <td>19592</td>\n",
       "    </tr>\n",
       "    <tr>\n",
       "      <th>(38.0, 50.0]</th>\n",
       "      <td>3025.98</td>\n",
       "      <td>16588</td>\n",
       "    </tr>\n",
       "    <tr>\n",
       "      <th>(50.0, 90.0]</th>\n",
       "      <td>3814.54</td>\n",
       "      <td>17910</td>\n",
       "    </tr>\n",
       "    <tr>\n",
       "      <th>(90.0, 634.0]</th>\n",
       "      <td>4859.21</td>\n",
       "      <td>17941</td>\n",
       "    </tr>\n",
       "  </tbody>\n",
       "</table>\n",
       "</div>"
      ],
      "text/plain": [
       "                     Assigned_Spending_Limit  Unique_Customer_ID\n",
       "Customer_Tenure_bin                                             \n",
       "(0.999, 38.0]                        2953.69               19592\n",
       "(38.0, 50.0]                         3025.98               16588\n",
       "(50.0, 90.0]                         3814.54               17910\n",
       "(90.0, 634.0]                        4859.21               17941"
      ]
     },
     "execution_count": 120,
     "metadata": {},
     "output_type": "execute_result"
    }
   ],
   "source": [
    "view('Customer_Tenure',final)"
   ]
  },
  {
   "cell_type": "code",
   "execution_count": 121,
   "metadata": {
    "ExecuteTime": {
     "end_time": "2019-12-20T22:31:58.313762Z",
     "start_time": "2019-12-20T22:31:58.241656Z"
    }
   },
   "outputs": [
    {
     "name": "stdout",
     "output_type": "stream",
     "text": [
      "Spending Limit by loss_rate\n"
     ]
    },
    {
     "data": {
      "text/html": [
       "<div>\n",
       "<style scoped>\n",
       "    .dataframe tbody tr th:only-of-type {\n",
       "        vertical-align: middle;\n",
       "    }\n",
       "\n",
       "    .dataframe tbody tr th {\n",
       "        vertical-align: top;\n",
       "    }\n",
       "\n",
       "    .dataframe thead th {\n",
       "        text-align: right;\n",
       "    }\n",
       "</style>\n",
       "<table border=\"1\" class=\"dataframe\">\n",
       "  <thead>\n",
       "    <tr style=\"text-align: right;\">\n",
       "      <th></th>\n",
       "      <th>Assigned_Spending_Limit</th>\n",
       "      <th>Unique_Customer_ID</th>\n",
       "    </tr>\n",
       "    <tr>\n",
       "      <th>loss_rate_bin</th>\n",
       "      <th></th>\n",
       "      <th></th>\n",
       "    </tr>\n",
       "  </thead>\n",
       "  <tbody>\n",
       "    <tr>\n",
       "      <th>(-0.001, 0.00205]</th>\n",
       "      <td>3187.45</td>\n",
       "      <td>18539</td>\n",
       "    </tr>\n",
       "    <tr>\n",
       "      <th>(0.00205, 0.0333]</th>\n",
       "      <td>4359.32</td>\n",
       "      <td>18094</td>\n",
       "    </tr>\n",
       "    <tr>\n",
       "      <th>(0.0333, 0.0353]</th>\n",
       "      <td>3662.20</td>\n",
       "      <td>18628</td>\n",
       "    </tr>\n",
       "    <tr>\n",
       "      <th>(0.0353, 0.316]</th>\n",
       "      <td>3421.10</td>\n",
       "      <td>16770</td>\n",
       "    </tr>\n",
       "  </tbody>\n",
       "</table>\n",
       "</div>"
      ],
      "text/plain": [
       "                   Assigned_Spending_Limit  Unique_Customer_ID\n",
       "loss_rate_bin                                                 \n",
       "(-0.001, 0.00205]                  3187.45               18539\n",
       "(0.00205, 0.0333]                  4359.32               18094\n",
       "(0.0333, 0.0353]                   3662.20               18628\n",
       "(0.0353, 0.316]                    3421.10               16770"
      ]
     },
     "execution_count": 121,
     "metadata": {},
     "output_type": "execute_result"
    }
   ],
   "source": [
    "view('loss_rate',final)"
   ]
  },
  {
   "cell_type": "code",
   "execution_count": 122,
   "metadata": {
    "ExecuteTime": {
     "end_time": "2019-12-20T22:32:04.733535Z",
     "start_time": "2019-12-20T22:32:04.730481Z"
    }
   },
   "outputs": [],
   "source": [
    "def risk_view(var,df):\n",
    "    print('Bad Rate by {}'.format(var))\n",
    "    df[var+'_bin'] = pd.qcut(df[var], q=4)\n",
    "    return df.groupby(var+'_bin')['Bad'].sum().div(df.groupby(var+'_bin')['Unique_Customer_ID'].size())"
   ]
  },
  {
   "cell_type": "code",
   "execution_count": 123,
   "metadata": {
    "ExecuteTime": {
     "end_time": "2019-12-20T22:32:06.955624Z",
     "start_time": "2019-12-20T22:32:06.886449Z"
    }
   },
   "outputs": [
    {
     "name": "stdout",
     "output_type": "stream",
     "text": [
      "Bad Rate by Customer_Salary\n"
     ]
    },
    {
     "data": {
      "text/plain": [
       "Customer_Salary_bin\n",
       "(2307.999, 29827.2]    0.362132\n",
       "(29827.2, 35741.0]     0.273131\n",
       "(35741.0, 47819.2]     0.177578\n",
       "(47819.2, 762720.0]    0.136621\n",
       "dtype: float64"
      ]
     },
     "execution_count": 123,
     "metadata": {},
     "output_type": "execute_result"
    }
   ],
   "source": [
    "risk_view('Customer_Salary',final)"
   ]
  },
  {
   "cell_type": "code",
   "execution_count": 124,
   "metadata": {
    "ExecuteTime": {
     "end_time": "2019-12-20T22:32:09.759536Z",
     "start_time": "2019-12-20T22:32:09.692697Z"
    }
   },
   "outputs": [
    {
     "name": "stdout",
     "output_type": "stream",
     "text": [
      "Bad Rate by Customer_Tenure\n"
     ]
    },
    {
     "data": {
      "text/plain": [
       "Customer_Tenure_bin\n",
       "(0.999, 38.0]    0.281748\n",
       "(38.0, 50.0]     0.312696\n",
       "(50.0, 90.0]     0.227192\n",
       "(90.0, 634.0]    0.129424\n",
       "dtype: float64"
      ]
     },
     "execution_count": 124,
     "metadata": {},
     "output_type": "execute_result"
    }
   ],
   "source": [
    "risk_view('Customer_Tenure',final)"
   ]
  },
  {
   "cell_type": "code",
   "execution_count": 173,
   "metadata": {
    "ExecuteTime": {
     "end_time": "2019-12-20T23:04:36.353797Z",
     "start_time": "2019-12-20T23:04:36.131443Z"
    }
   },
   "outputs": [
    {
     "name": "stdout",
     "output_type": "stream",
     "text": [
      "Bad Rate by Client_Risk\n"
     ]
    },
    {
     "data": {
      "text/plain": [
       "Client_Risk_bin\n",
       "(-0.001, 0.00205]    0.222018\n",
       "(0.00205, 0.0333]    0.188792\n",
       "(0.0333, 0.0353]     0.245491\n",
       "(0.0353, 0.316]      0.297734\n",
       "dtype: float64"
      ]
     },
     "execution_count": 173,
     "metadata": {},
     "output_type": "execute_result"
    }
   ],
   "source": [
    "risk_view('Client_Risk',final)"
   ]
  },
  {
   "cell_type": "code",
   "execution_count": 174,
   "metadata": {
    "ExecuteTime": {
     "end_time": "2019-12-20T23:04:54.062165Z",
     "start_time": "2019-12-20T23:04:53.845225Z"
    }
   },
   "outputs": [
    {
     "name": "stdout",
     "output_type": "stream",
     "text": [
      "Bad Rate vs Spending Limit\n"
     ]
    },
    {
     "data": {
      "text/plain": [
       "Spending_Limit_bin\n",
       "(399.999, 1445.0]    0.365557\n",
       "(1445.0, 2330.0]     0.312217\n",
       "(2330.0, 3260.0]     0.267938\n",
       "(3260.0, 4335.0]     0.212948\n",
       "(4335.0, 5620.0]     0.154103\n",
       "(5620.0, 13160.0]    0.108509\n",
       "dtype: float64"
      ]
     },
     "execution_count": 174,
     "metadata": {},
     "output_type": "execute_result"
    }
   ],
   "source": [
    "print('Bad Rate vs Spending Limit')\n",
    "final['Spending_Limit_bin'] = pd.qcut(final['Assigned_Spending_Limit'], q=6)\n",
    "final.groupby('Spending_Limit_bin')['Bad'].sum().div(final.groupby('Spending_Limit_bin')['Unique_Customer_ID'].size())"
   ]
  },
  {
   "cell_type": "code",
   "execution_count": null,
   "metadata": {},
   "outputs": [],
   "source": []
  }
 ],
 "metadata": {
  "kernelspec": {
   "display_name": "Python 3",
   "language": "python",
   "name": "python3"
  },
  "language_info": {
   "codemirror_mode": {
    "name": "ipython",
    "version": 3
   },
   "file_extension": ".py",
   "mimetype": "text/x-python",
   "name": "python",
   "nbconvert_exporter": "python",
   "pygments_lexer": "ipython3",
   "version": "3.7.3"
  }
 },
 "nbformat": 4,
 "nbformat_minor": 2
}
